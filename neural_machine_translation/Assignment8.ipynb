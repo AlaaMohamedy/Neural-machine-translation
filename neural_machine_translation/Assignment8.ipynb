{
  "nbformat": 4,
  "nbformat_minor": 0,
  "metadata": {
    "colab": {
      "provenance": []
    },
    "kernelspec": {
      "name": "python3",
      "display_name": "Python 3"
    },
    "language_info": {
      "name": "python"
    },
    "accelerator": "GPU",
    "gpuClass": "standard"
  },
  "cells": [
    {
      "cell_type": "code",
      "execution_count": null,
      "metadata": {
        "id": "CvrucFE530s7"
      },
      "outputs": [],
      "source": [
        "import numpy as np\n",
        "import pandas as pd\n",
        "import matplotlib.pyplot as plt\n",
        "import seaborn as sns\n",
        "import os\n",
        "import tensorflow as tf\n",
        "from tensorflow import keras\n",
        "from tensorflow.keras.models import Model,Sequential\n",
        "from tensorflow.keras.layers import Input,Dense,Activation,LSTM,GRU,Embedding\n",
        "from tensorflow.keras.preprocessing.text import one_hot,Tokenizer\n",
        "from tensorflow.keras.preprocessing.sequence import pad_sequences"
      ]
    },
    {
      "cell_type": "code",
      "source": [
        "df=pd.read_csv(\"/content/ara_.txt\",delimiter=\"\\t\",names=[\"input\",\"target\"])"
      ],
      "metadata": {
        "id": "NQ-Ldc_-35H1"
      },
      "execution_count": null,
      "outputs": []
    },
    {
      "cell_type": "code",
      "source": [
        "df.head()"
      ],
      "metadata": {
        "colab": {
          "base_uri": "https://localhost:8080/",
          "height": 206
        },
        "id": "7CgYXtem4VXv",
        "outputId": "14871860-abb6-4f7f-c087-21ae5c0bc133"
      },
      "execution_count": null,
      "outputs": [
        {
          "output_type": "execute_result",
          "data": {
            "text/plain": [
              "   input   target\n",
              "0    Hi.  مرحبًا.\n",
              "1   Run!    اركض!\n",
              "2  Help!  النجدة!\n",
              "3  Jump!    اقفز!\n",
              "4  Stop!      قف!"
            ],
            "text/html": [
              "\n",
              "  <div id=\"df-5eb10623-0e85-4be1-a28c-220affb5cd7c\">\n",
              "    <div class=\"colab-df-container\">\n",
              "      <div>\n",
              "<style scoped>\n",
              "    .dataframe tbody tr th:only-of-type {\n",
              "        vertical-align: middle;\n",
              "    }\n",
              "\n",
              "    .dataframe tbody tr th {\n",
              "        vertical-align: top;\n",
              "    }\n",
              "\n",
              "    .dataframe thead th {\n",
              "        text-align: right;\n",
              "    }\n",
              "</style>\n",
              "<table border=\"1\" class=\"dataframe\">\n",
              "  <thead>\n",
              "    <tr style=\"text-align: right;\">\n",
              "      <th></th>\n",
              "      <th>input</th>\n",
              "      <th>target</th>\n",
              "    </tr>\n",
              "  </thead>\n",
              "  <tbody>\n",
              "    <tr>\n",
              "      <th>0</th>\n",
              "      <td>Hi.</td>\n",
              "      <td>مرحبًا.</td>\n",
              "    </tr>\n",
              "    <tr>\n",
              "      <th>1</th>\n",
              "      <td>Run!</td>\n",
              "      <td>اركض!</td>\n",
              "    </tr>\n",
              "    <tr>\n",
              "      <th>2</th>\n",
              "      <td>Help!</td>\n",
              "      <td>النجدة!</td>\n",
              "    </tr>\n",
              "    <tr>\n",
              "      <th>3</th>\n",
              "      <td>Jump!</td>\n",
              "      <td>اقفز!</td>\n",
              "    </tr>\n",
              "    <tr>\n",
              "      <th>4</th>\n",
              "      <td>Stop!</td>\n",
              "      <td>قف!</td>\n",
              "    </tr>\n",
              "  </tbody>\n",
              "</table>\n",
              "</div>\n",
              "      <button class=\"colab-df-convert\" onclick=\"convertToInteractive('df-5eb10623-0e85-4be1-a28c-220affb5cd7c')\"\n",
              "              title=\"Convert this dataframe to an interactive table.\"\n",
              "              style=\"display:none;\">\n",
              "        \n",
              "  <svg xmlns=\"http://www.w3.org/2000/svg\" height=\"24px\"viewBox=\"0 0 24 24\"\n",
              "       width=\"24px\">\n",
              "    <path d=\"M0 0h24v24H0V0z\" fill=\"none\"/>\n",
              "    <path d=\"M18.56 5.44l.94 2.06.94-2.06 2.06-.94-2.06-.94-.94-2.06-.94 2.06-2.06.94zm-11 1L8.5 8.5l.94-2.06 2.06-.94-2.06-.94L8.5 2.5l-.94 2.06-2.06.94zm10 10l.94 2.06.94-2.06 2.06-.94-2.06-.94-.94-2.06-.94 2.06-2.06.94z\"/><path d=\"M17.41 7.96l-1.37-1.37c-.4-.4-.92-.59-1.43-.59-.52 0-1.04.2-1.43.59L10.3 9.45l-7.72 7.72c-.78.78-.78 2.05 0 2.83L4 21.41c.39.39.9.59 1.41.59.51 0 1.02-.2 1.41-.59l7.78-7.78 2.81-2.81c.8-.78.8-2.07 0-2.86zM5.41 20L4 18.59l7.72-7.72 1.47 1.35L5.41 20z\"/>\n",
              "  </svg>\n",
              "      </button>\n",
              "      \n",
              "  <style>\n",
              "    .colab-df-container {\n",
              "      display:flex;\n",
              "      flex-wrap:wrap;\n",
              "      gap: 12px;\n",
              "    }\n",
              "\n",
              "    .colab-df-convert {\n",
              "      background-color: #E8F0FE;\n",
              "      border: none;\n",
              "      border-radius: 50%;\n",
              "      cursor: pointer;\n",
              "      display: none;\n",
              "      fill: #1967D2;\n",
              "      height: 32px;\n",
              "      padding: 0 0 0 0;\n",
              "      width: 32px;\n",
              "    }\n",
              "\n",
              "    .colab-df-convert:hover {\n",
              "      background-color: #E2EBFA;\n",
              "      box-shadow: 0px 1px 2px rgba(60, 64, 67, 0.3), 0px 1px 3px 1px rgba(60, 64, 67, 0.15);\n",
              "      fill: #174EA6;\n",
              "    }\n",
              "\n",
              "    [theme=dark] .colab-df-convert {\n",
              "      background-color: #3B4455;\n",
              "      fill: #D2E3FC;\n",
              "    }\n",
              "\n",
              "    [theme=dark] .colab-df-convert:hover {\n",
              "      background-color: #434B5C;\n",
              "      box-shadow: 0px 1px 3px 1px rgba(0, 0, 0, 0.15);\n",
              "      filter: drop-shadow(0px 1px 2px rgba(0, 0, 0, 0.3));\n",
              "      fill: #FFFFFF;\n",
              "    }\n",
              "  </style>\n",
              "\n",
              "      <script>\n",
              "        const buttonEl =\n",
              "          document.querySelector('#df-5eb10623-0e85-4be1-a28c-220affb5cd7c button.colab-df-convert');\n",
              "        buttonEl.style.display =\n",
              "          google.colab.kernel.accessAllowed ? 'block' : 'none';\n",
              "\n",
              "        async function convertToInteractive(key) {\n",
              "          const element = document.querySelector('#df-5eb10623-0e85-4be1-a28c-220affb5cd7c');\n",
              "          const dataTable =\n",
              "            await google.colab.kernel.invokeFunction('convertToInteractive',\n",
              "                                                     [key], {});\n",
              "          if (!dataTable) return;\n",
              "\n",
              "          const docLinkHtml = 'Like what you see? Visit the ' +\n",
              "            '<a target=\"_blank\" href=https://colab.research.google.com/notebooks/data_table.ipynb>data table notebook</a>'\n",
              "            + ' to learn more about interactive tables.';\n",
              "          element.innerHTML = '';\n",
              "          dataTable['output_type'] = 'display_data';\n",
              "          await google.colab.output.renderOutput(dataTable, element);\n",
              "          const docLink = document.createElement('div');\n",
              "          docLink.innerHTML = docLinkHtml;\n",
              "          element.appendChild(docLink);\n",
              "        }\n",
              "      </script>\n",
              "    </div>\n",
              "  </div>\n",
              "  "
            ]
          },
          "metadata": {},
          "execution_count": 18
        }
      ]
    },
    {
      "cell_type": "code",
      "source": [
        "# convert inputs to lowercase\n",
        "df[\"input\"]=df[\"input\"].apply(lambda text:text.lower())"
      ],
      "metadata": {
        "id": "HJvlhqTV4Yuc"
      },
      "execution_count": null,
      "outputs": []
    },
    {
      "cell_type": "code",
      "source": [
        "df.shape"
      ],
      "metadata": {
        "colab": {
          "base_uri": "https://localhost:8080/"
        },
        "id": "kWcNrPhA4c7w",
        "outputId": "8a3bcdd8-3cf6-4117-b7fc-6de7d8c35929"
      },
      "execution_count": null,
      "outputs": [
        {
          "output_type": "execute_result",
          "data": {
            "text/plain": [
              "(10742, 2)"
            ]
          },
          "metadata": {},
          "execution_count": 20
        }
      ]
    },
    {
      "cell_type": "code",
      "source": [
        "df.head()"
      ],
      "metadata": {
        "colab": {
          "base_uri": "https://localhost:8080/",
          "height": 206
        },
        "id": "INCDzweu4fp7",
        "outputId": "3362edbe-2ce9-42ad-d98e-5e166a93fce2"
      },
      "execution_count": null,
      "outputs": [
        {
          "output_type": "execute_result",
          "data": {
            "text/plain": [
              "   input   target\n",
              "0    hi.  مرحبًا.\n",
              "1   run!    اركض!\n",
              "2  help!  النجدة!\n",
              "3  jump!    اقفز!\n",
              "4  stop!      قف!"
            ],
            "text/html": [
              "\n",
              "  <div id=\"df-068cfdcf-e062-4cbe-bcea-4337183020cf\">\n",
              "    <div class=\"colab-df-container\">\n",
              "      <div>\n",
              "<style scoped>\n",
              "    .dataframe tbody tr th:only-of-type {\n",
              "        vertical-align: middle;\n",
              "    }\n",
              "\n",
              "    .dataframe tbody tr th {\n",
              "        vertical-align: top;\n",
              "    }\n",
              "\n",
              "    .dataframe thead th {\n",
              "        text-align: right;\n",
              "    }\n",
              "</style>\n",
              "<table border=\"1\" class=\"dataframe\">\n",
              "  <thead>\n",
              "    <tr style=\"text-align: right;\">\n",
              "      <th></th>\n",
              "      <th>input</th>\n",
              "      <th>target</th>\n",
              "    </tr>\n",
              "  </thead>\n",
              "  <tbody>\n",
              "    <tr>\n",
              "      <th>0</th>\n",
              "      <td>hi.</td>\n",
              "      <td>مرحبًا.</td>\n",
              "    </tr>\n",
              "    <tr>\n",
              "      <th>1</th>\n",
              "      <td>run!</td>\n",
              "      <td>اركض!</td>\n",
              "    </tr>\n",
              "    <tr>\n",
              "      <th>2</th>\n",
              "      <td>help!</td>\n",
              "      <td>النجدة!</td>\n",
              "    </tr>\n",
              "    <tr>\n",
              "      <th>3</th>\n",
              "      <td>jump!</td>\n",
              "      <td>اقفز!</td>\n",
              "    </tr>\n",
              "    <tr>\n",
              "      <th>4</th>\n",
              "      <td>stop!</td>\n",
              "      <td>قف!</td>\n",
              "    </tr>\n",
              "  </tbody>\n",
              "</table>\n",
              "</div>\n",
              "      <button class=\"colab-df-convert\" onclick=\"convertToInteractive('df-068cfdcf-e062-4cbe-bcea-4337183020cf')\"\n",
              "              title=\"Convert this dataframe to an interactive table.\"\n",
              "              style=\"display:none;\">\n",
              "        \n",
              "  <svg xmlns=\"http://www.w3.org/2000/svg\" height=\"24px\"viewBox=\"0 0 24 24\"\n",
              "       width=\"24px\">\n",
              "    <path d=\"M0 0h24v24H0V0z\" fill=\"none\"/>\n",
              "    <path d=\"M18.56 5.44l.94 2.06.94-2.06 2.06-.94-2.06-.94-.94-2.06-.94 2.06-2.06.94zm-11 1L8.5 8.5l.94-2.06 2.06-.94-2.06-.94L8.5 2.5l-.94 2.06-2.06.94zm10 10l.94 2.06.94-2.06 2.06-.94-2.06-.94-.94-2.06-.94 2.06-2.06.94z\"/><path d=\"M17.41 7.96l-1.37-1.37c-.4-.4-.92-.59-1.43-.59-.52 0-1.04.2-1.43.59L10.3 9.45l-7.72 7.72c-.78.78-.78 2.05 0 2.83L4 21.41c.39.39.9.59 1.41.59.51 0 1.02-.2 1.41-.59l7.78-7.78 2.81-2.81c.8-.78.8-2.07 0-2.86zM5.41 20L4 18.59l7.72-7.72 1.47 1.35L5.41 20z\"/>\n",
              "  </svg>\n",
              "      </button>\n",
              "      \n",
              "  <style>\n",
              "    .colab-df-container {\n",
              "      display:flex;\n",
              "      flex-wrap:wrap;\n",
              "      gap: 12px;\n",
              "    }\n",
              "\n",
              "    .colab-df-convert {\n",
              "      background-color: #E8F0FE;\n",
              "      border: none;\n",
              "      border-radius: 50%;\n",
              "      cursor: pointer;\n",
              "      display: none;\n",
              "      fill: #1967D2;\n",
              "      height: 32px;\n",
              "      padding: 0 0 0 0;\n",
              "      width: 32px;\n",
              "    }\n",
              "\n",
              "    .colab-df-convert:hover {\n",
              "      background-color: #E2EBFA;\n",
              "      box-shadow: 0px 1px 2px rgba(60, 64, 67, 0.3), 0px 1px 3px 1px rgba(60, 64, 67, 0.15);\n",
              "      fill: #174EA6;\n",
              "    }\n",
              "\n",
              "    [theme=dark] .colab-df-convert {\n",
              "      background-color: #3B4455;\n",
              "      fill: #D2E3FC;\n",
              "    }\n",
              "\n",
              "    [theme=dark] .colab-df-convert:hover {\n",
              "      background-color: #434B5C;\n",
              "      box-shadow: 0px 1px 3px 1px rgba(0, 0, 0, 0.15);\n",
              "      filter: drop-shadow(0px 1px 2px rgba(0, 0, 0, 0.3));\n",
              "      fill: #FFFFFF;\n",
              "    }\n",
              "  </style>\n",
              "\n",
              "      <script>\n",
              "        const buttonEl =\n",
              "          document.querySelector('#df-068cfdcf-e062-4cbe-bcea-4337183020cf button.colab-df-convert');\n",
              "        buttonEl.style.display =\n",
              "          google.colab.kernel.accessAllowed ? 'block' : 'none';\n",
              "\n",
              "        async function convertToInteractive(key) {\n",
              "          const element = document.querySelector('#df-068cfdcf-e062-4cbe-bcea-4337183020cf');\n",
              "          const dataTable =\n",
              "            await google.colab.kernel.invokeFunction('convertToInteractive',\n",
              "                                                     [key], {});\n",
              "          if (!dataTable) return;\n",
              "\n",
              "          const docLinkHtml = 'Like what you see? Visit the ' +\n",
              "            '<a target=\"_blank\" href=https://colab.research.google.com/notebooks/data_table.ipynb>data table notebook</a>'\n",
              "            + ' to learn more about interactive tables.';\n",
              "          element.innerHTML = '';\n",
              "          dataTable['output_type'] = 'display_data';\n",
              "          await google.colab.output.renderOutput(dataTable, element);\n",
              "          const docLink = document.createElement('div');\n",
              "          docLink.innerHTML = docLinkHtml;\n",
              "          element.appendChild(docLink);\n",
              "        }\n",
              "      </script>\n",
              "    </div>\n",
              "  </div>\n",
              "  "
            ]
          },
          "metadata": {},
          "execution_count": 21
        }
      ]
    },
    {
      "cell_type": "code",
      "source": [
        "# add columns contain length for inputs and target\n",
        "df[\"length_input\"]=df[\"input\"].apply(lambda text:len(text.split(\" \")))\n",
        "df[\"length_target\"]=df[\"target\"].apply(lambda text:len(text.split(\" \")))"
      ],
      "metadata": {
        "id": "sZ4cDM8m4kAn"
      },
      "execution_count": null,
      "outputs": []
    },
    {
      "cell_type": "code",
      "source": [
        "df.head()"
      ],
      "metadata": {
        "colab": {
          "base_uri": "https://localhost:8080/",
          "height": 206
        },
        "id": "e92QxwPd4sVt",
        "outputId": "6611f023-0e53-4375-a791-19bc43503ba1"
      },
      "execution_count": null,
      "outputs": [
        {
          "output_type": "execute_result",
          "data": {
            "text/plain": [
              "   input   target  length_input  length_target\n",
              "0    hi.  مرحبًا.             1              1\n",
              "1   run!    اركض!             1              1\n",
              "2  help!  النجدة!             1              1\n",
              "3  jump!    اقفز!             1              1\n",
              "4  stop!      قف!             1              1"
            ],
            "text/html": [
              "\n",
              "  <div id=\"df-8c728983-2555-49db-b9bf-db54e12d1a6c\">\n",
              "    <div class=\"colab-df-container\">\n",
              "      <div>\n",
              "<style scoped>\n",
              "    .dataframe tbody tr th:only-of-type {\n",
              "        vertical-align: middle;\n",
              "    }\n",
              "\n",
              "    .dataframe tbody tr th {\n",
              "        vertical-align: top;\n",
              "    }\n",
              "\n",
              "    .dataframe thead th {\n",
              "        text-align: right;\n",
              "    }\n",
              "</style>\n",
              "<table border=\"1\" class=\"dataframe\">\n",
              "  <thead>\n",
              "    <tr style=\"text-align: right;\">\n",
              "      <th></th>\n",
              "      <th>input</th>\n",
              "      <th>target</th>\n",
              "      <th>length_input</th>\n",
              "      <th>length_target</th>\n",
              "    </tr>\n",
              "  </thead>\n",
              "  <tbody>\n",
              "    <tr>\n",
              "      <th>0</th>\n",
              "      <td>hi.</td>\n",
              "      <td>مرحبًا.</td>\n",
              "      <td>1</td>\n",
              "      <td>1</td>\n",
              "    </tr>\n",
              "    <tr>\n",
              "      <th>1</th>\n",
              "      <td>run!</td>\n",
              "      <td>اركض!</td>\n",
              "      <td>1</td>\n",
              "      <td>1</td>\n",
              "    </tr>\n",
              "    <tr>\n",
              "      <th>2</th>\n",
              "      <td>help!</td>\n",
              "      <td>النجدة!</td>\n",
              "      <td>1</td>\n",
              "      <td>1</td>\n",
              "    </tr>\n",
              "    <tr>\n",
              "      <th>3</th>\n",
              "      <td>jump!</td>\n",
              "      <td>اقفز!</td>\n",
              "      <td>1</td>\n",
              "      <td>1</td>\n",
              "    </tr>\n",
              "    <tr>\n",
              "      <th>4</th>\n",
              "      <td>stop!</td>\n",
              "      <td>قف!</td>\n",
              "      <td>1</td>\n",
              "      <td>1</td>\n",
              "    </tr>\n",
              "  </tbody>\n",
              "</table>\n",
              "</div>\n",
              "      <button class=\"colab-df-convert\" onclick=\"convertToInteractive('df-8c728983-2555-49db-b9bf-db54e12d1a6c')\"\n",
              "              title=\"Convert this dataframe to an interactive table.\"\n",
              "              style=\"display:none;\">\n",
              "        \n",
              "  <svg xmlns=\"http://www.w3.org/2000/svg\" height=\"24px\"viewBox=\"0 0 24 24\"\n",
              "       width=\"24px\">\n",
              "    <path d=\"M0 0h24v24H0V0z\" fill=\"none\"/>\n",
              "    <path d=\"M18.56 5.44l.94 2.06.94-2.06 2.06-.94-2.06-.94-.94-2.06-.94 2.06-2.06.94zm-11 1L8.5 8.5l.94-2.06 2.06-.94-2.06-.94L8.5 2.5l-.94 2.06-2.06.94zm10 10l.94 2.06.94-2.06 2.06-.94-2.06-.94-.94-2.06-.94 2.06-2.06.94z\"/><path d=\"M17.41 7.96l-1.37-1.37c-.4-.4-.92-.59-1.43-.59-.52 0-1.04.2-1.43.59L10.3 9.45l-7.72 7.72c-.78.78-.78 2.05 0 2.83L4 21.41c.39.39.9.59 1.41.59.51 0 1.02-.2 1.41-.59l7.78-7.78 2.81-2.81c.8-.78.8-2.07 0-2.86zM5.41 20L4 18.59l7.72-7.72 1.47 1.35L5.41 20z\"/>\n",
              "  </svg>\n",
              "      </button>\n",
              "      \n",
              "  <style>\n",
              "    .colab-df-container {\n",
              "      display:flex;\n",
              "      flex-wrap:wrap;\n",
              "      gap: 12px;\n",
              "    }\n",
              "\n",
              "    .colab-df-convert {\n",
              "      background-color: #E8F0FE;\n",
              "      border: none;\n",
              "      border-radius: 50%;\n",
              "      cursor: pointer;\n",
              "      display: none;\n",
              "      fill: #1967D2;\n",
              "      height: 32px;\n",
              "      padding: 0 0 0 0;\n",
              "      width: 32px;\n",
              "    }\n",
              "\n",
              "    .colab-df-convert:hover {\n",
              "      background-color: #E2EBFA;\n",
              "      box-shadow: 0px 1px 2px rgba(60, 64, 67, 0.3), 0px 1px 3px 1px rgba(60, 64, 67, 0.15);\n",
              "      fill: #174EA6;\n",
              "    }\n",
              "\n",
              "    [theme=dark] .colab-df-convert {\n",
              "      background-color: #3B4455;\n",
              "      fill: #D2E3FC;\n",
              "    }\n",
              "\n",
              "    [theme=dark] .colab-df-convert:hover {\n",
              "      background-color: #434B5C;\n",
              "      box-shadow: 0px 1px 3px 1px rgba(0, 0, 0, 0.15);\n",
              "      filter: drop-shadow(0px 1px 2px rgba(0, 0, 0, 0.3));\n",
              "      fill: #FFFFFF;\n",
              "    }\n",
              "  </style>\n",
              "\n",
              "      <script>\n",
              "        const buttonEl =\n",
              "          document.querySelector('#df-8c728983-2555-49db-b9bf-db54e12d1a6c button.colab-df-convert');\n",
              "        buttonEl.style.display =\n",
              "          google.colab.kernel.accessAllowed ? 'block' : 'none';\n",
              "\n",
              "        async function convertToInteractive(key) {\n",
              "          const element = document.querySelector('#df-8c728983-2555-49db-b9bf-db54e12d1a6c');\n",
              "          const dataTable =\n",
              "            await google.colab.kernel.invokeFunction('convertToInteractive',\n",
              "                                                     [key], {});\n",
              "          if (!dataTable) return;\n",
              "\n",
              "          const docLinkHtml = 'Like what you see? Visit the ' +\n",
              "            '<a target=\"_blank\" href=https://colab.research.google.com/notebooks/data_table.ipynb>data table notebook</a>'\n",
              "            + ' to learn more about interactive tables.';\n",
              "          element.innerHTML = '';\n",
              "          dataTable['output_type'] = 'display_data';\n",
              "          await google.colab.output.renderOutput(dataTable, element);\n",
              "          const docLink = document.createElement('div');\n",
              "          docLink.innerHTML = docLinkHtml;\n",
              "          element.appendChild(docLink);\n",
              "        }\n",
              "      </script>\n",
              "    </div>\n",
              "  </div>\n",
              "  "
            ]
          },
          "metadata": {},
          "execution_count": 23
        }
      ]
    },
    {
      "cell_type": "code",
      "source": [
        "max_input_length=np.array(df[\"length_input\"].to_list()).max()\n",
        "max_input_length"
      ],
      "metadata": {
        "colab": {
          "base_uri": "https://localhost:8080/"
        },
        "id": "BEPZXdzK4s6h",
        "outputId": "9378e1a1-a7d7-4edb-fca6-1b04f8fcf8c3"
      },
      "execution_count": null,
      "outputs": [
        {
          "output_type": "execute_result",
          "data": {
            "text/plain": [
              "34"
            ]
          },
          "metadata": {},
          "execution_count": 24
        }
      ]
    },
    {
      "cell_type": "code",
      "source": [
        "df[df[\"length_input\"] == 34][\"input\"]"
      ],
      "metadata": {
        "colab": {
          "base_uri": "https://localhost:8080/"
        },
        "id": "lIt-TuPe45FF",
        "outputId": "e610e747-6c27-4de3-d961-a06d7b8ac63d"
      },
      "execution_count": null,
      "outputs": [
        {
          "output_type": "execute_result",
          "data": {
            "text/plain": [
              "10741    there are mothers and fathers who will lie awa...\n",
              "Name: input, dtype: object"
            ]
          },
          "metadata": {},
          "execution_count": 25
        }
      ]
    },
    {
      "cell_type": "code",
      "source": [
        "plt.hist(df[\"length_input\"])"
      ],
      "metadata": {
        "colab": {
          "base_uri": "https://localhost:8080/",
          "height": 499
        },
        "id": "PvdYLL2O5A04",
        "outputId": "8f89ffdf-8155-4437-eb38-9129a32d888e"
      },
      "execution_count": null,
      "outputs": [
        {
          "output_type": "execute_result",
          "data": {
            "text/plain": [
              "(array([3.728e+03, 5.036e+03, 1.547e+03, 3.840e+02, 3.100e+01, 1.300e+01,\n",
              "        2.000e+00, 0.000e+00, 0.000e+00, 1.000e+00]),\n",
              " array([ 1. ,  4.3,  7.6, 10.9, 14.2, 17.5, 20.8, 24.1, 27.4, 30.7, 34. ]),\n",
              " <BarContainer object of 10 artists>)"
            ]
          },
          "metadata": {},
          "execution_count": 26
        },
        {
          "output_type": "display_data",
          "data": {
            "text/plain": [
              "<Figure size 640x480 with 1 Axes>"
            ],
            "image/png": "[encoded data removed]"
          },
          "metadata": {}
        }
      ]
    },
    {
      "cell_type": "code",
      "source": [
        "plt.hist(df[\"length_target\"])"
      ],
      "metadata": {
        "colab": {
          "base_uri": "https://localhost:8080/",
          "height": 499
        },
        "id": "r2FbgDee5NKB",
        "outputId": "be74792f-48ef-431a-c374-fa687c8df63f"
      },
      "execution_count": null,
      "outputs": [
        {
          "output_type": "execute_result",
          "data": {
            "text/plain": [
              "(array([6.523e+03, 3.461e+03, 6.890e+02, 5.000e+01, 1.800e+01, 0.000e+00,\n",
              "        0.000e+00, 0.000e+00, 0.000e+00, 1.000e+00]),\n",
              " array([ 1. ,  4.5,  8. , 11.5, 15. , 18.5, 22. , 25.5, 29. , 32.5, 36. ]),\n",
              " <BarContainer object of 10 artists>)"
            ]
          },
          "metadata": {},
          "execution_count": 27
        },
        {
          "output_type": "display_data",
          "data": {
            "text/plain": [
              "<Figure size 640x480 with 1 Axes>"
            ],
            "image/png": "[encoded data removed]"
          },
          "metadata": {}
        }
      ]
    },
    {
      "cell_type": "code",
      "source": [
        "df.sample(10)"
      ],
      "metadata": {
        "colab": {
          "base_uri": "https://localhost:8080/",
          "height": 363
        },
        "id": "UuXc343j6wdP",
        "outputId": "248bd3c3-e6b2-410d-9cd2-a2172f32defe"
      },
      "execution_count": null,
      "outputs": [
        {
          "output_type": "execute_result",
          "data": {
            "text/plain": [
              "                                                   input  \\\n",
              "9346           he had no difficulty solving the problem.   \n",
              "1061                                    green suits you.   \n",
              "2458                                 you broke my heart.   \n",
              "31                                              come on!   \n",
              "2767                                this play has ended.   \n",
              "7722                   my mother died during my absence.   \n",
              "4454                            tom said he saw nothing.   \n",
              "10738  a man touched down on the moon. a wall came do...   \n",
              "5456                         i have a friend in england.   \n",
              "6948                     my uncle lives near the school.   \n",
              "\n",
              "                                                  target  length_input  \\\n",
              "9346                لم يواجه صعوبةً تذكر في حلّ المشكلة.             7   \n",
              "1061                                يناسبك اللون الأخضر.             3   \n",
              "2458                                    أنتَ كسرتَ قلبي.             4   \n",
              "31                                                   هيا             2   \n",
              "2767                                     إنتهت المسرحية.             4   \n",
              "7722                                  ماتت أمي في غيابي.             6   \n",
              "4454                           قال توم بأنه لم يرى شيئا.             5   \n",
              "10738  هبط إنسان على سطح القمر، وأنهار حائط في برلين،...            23   \n",
              "5456                            أنا لدي صديق في إنجلترا.             6   \n",
              "6948                               يعيش عمي قرب المدرسة.             6   \n",
              "\n",
              "       length_target  \n",
              "9346               7  \n",
              "1061               3  \n",
              "2458               3  \n",
              "31                 1  \n",
              "2767               2  \n",
              "7722               4  \n",
              "4454               6  \n",
              "10738             15  \n",
              "5456               5  \n",
              "6948               4  "
            ],
            "text/html": [
              "\n",
              "  <div id=\"df-41c3a6cd-453f-45e5-b146-92209fa3cf59\">\n",
              "    <div class=\"colab-df-container\">\n",
              "      <div>\n",
              "<style scoped>\n",
              "    .dataframe tbody tr th:only-of-type {\n",
              "        vertical-align: middle;\n",
              "    }\n",
              "\n",
              "    .dataframe tbody tr th {\n",
              "        vertical-align: top;\n",
              "    }\n",
              "\n",
              "    .dataframe thead th {\n",
              "        text-align: right;\n",
              "    }\n",
              "</style>\n",
              "<table border=\"1\" class=\"dataframe\">\n",
              "  <thead>\n",
              "    <tr style=\"text-align: right;\">\n",
              "      <th></th>\n",
              "      <th>input</th>\n",
              "      <th>target</th>\n",
              "      <th>length_input</th>\n",
              "      <th>length_target</th>\n",
              "    </tr>\n",
              "  </thead>\n",
              "  <tbody>\n",
              "    <tr>\n",
              "      <th>9346</th>\n",
              "      <td>he had no difficulty solving the problem.</td>\n",
              "      <td>لم يواجه صعوبةً تذكر في حلّ المشكلة.</td>\n",
              "      <td>7</td>\n",
              "      <td>7</td>\n",
              "    </tr>\n",
              "    <tr>\n",
              "      <th>1061</th>\n",
              "      <td>green suits you.</td>\n",
              "      <td>يناسبك اللون الأخضر.</td>\n",
              "      <td>3</td>\n",
              "      <td>3</td>\n",
              "    </tr>\n",
              "    <tr>\n",
              "      <th>2458</th>\n",
              "      <td>you broke my heart.</td>\n",
              "      <td>أنتَ كسرتَ قلبي.</td>\n",
              "      <td>4</td>\n",
              "      <td>3</td>\n",
              "    </tr>\n",
              "    <tr>\n",
              "      <th>31</th>\n",
              "      <td>come on!</td>\n",
              "      <td>هيا</td>\n",
              "      <td>2</td>\n",
              "      <td>1</td>\n",
              "    </tr>\n",
              "    <tr>\n",
              "      <th>2767</th>\n",
              "      <td>this play has ended.</td>\n",
              "      <td>إنتهت المسرحية.</td>\n",
              "      <td>4</td>\n",
              "      <td>2</td>\n",
              "    </tr>\n",
              "    <tr>\n",
              "      <th>7722</th>\n",
              "      <td>my mother died during my absence.</td>\n",
              "      <td>ماتت أمي في غيابي.</td>\n",
              "      <td>6</td>\n",
              "      <td>4</td>\n",
              "    </tr>\n",
              "    <tr>\n",
              "      <th>4454</th>\n",
              "      <td>tom said he saw nothing.</td>\n",
              "      <td>قال توم بأنه لم يرى شيئا.</td>\n",
              "      <td>5</td>\n",
              "      <td>6</td>\n",
              "    </tr>\n",
              "    <tr>\n",
              "      <th>10738</th>\n",
              "      <td>a man touched down on the moon. a wall came do...</td>\n",
              "      <td>هبط إنسان على سطح القمر، وأنهار حائط في برلين،...</td>\n",
              "      <td>23</td>\n",
              "      <td>15</td>\n",
              "    </tr>\n",
              "    <tr>\n",
              "      <th>5456</th>\n",
              "      <td>i have a friend in england.</td>\n",
              "      <td>أنا لدي صديق في إنجلترا.</td>\n",
              "      <td>6</td>\n",
              "      <td>5</td>\n",
              "    </tr>\n",
              "    <tr>\n",
              "      <th>6948</th>\n",
              "      <td>my uncle lives near the school.</td>\n",
              "      <td>يعيش عمي قرب المدرسة.</td>\n",
              "      <td>6</td>\n",
              "      <td>4</td>\n",
              "    </tr>\n",
              "  </tbody>\n",
              "</table>\n",
              "</div>\n",
              "      <button class=\"colab-df-convert\" onclick=\"convertToInteractive('df-41c3a6cd-453f-45e5-b146-92209fa3cf59')\"\n",
              "              title=\"Convert this dataframe to an interactive table.\"\n",
              "              style=\"display:none;\">\n",
              "        \n",
              "  <svg xmlns=\"http://www.w3.org/2000/svg\" height=\"24px\"viewBox=\"0 0 24 24\"\n",
              "       width=\"24px\">\n",
              "    <path d=\"M0 0h24v24H0V0z\" fill=\"none\"/>\n",
              "    <path d=\"M18.56 5.44l.94 2.06.94-2.06 2.06-.94-2.06-.94-.94-2.06-.94 2.06-2.06.94zm-11 1L8.5 8.5l.94-2.06 2.06-.94-2.06-.94L8.5 2.5l-.94 2.06-2.06.94zm10 10l.94 2.06.94-2.06 2.06-.94-2.06-.94-.94-2.06-.94 2.06-2.06.94z\"/><path d=\"M17.41 7.96l-1.37-1.37c-.4-.4-.92-.59-1.43-.59-.52 0-1.04.2-1.43.59L10.3 9.45l-7.72 7.72c-.78.78-.78 2.05 0 2.83L4 21.41c.39.39.9.59 1.41.59.51 0 1.02-.2 1.41-.59l7.78-7.78 2.81-2.81c.8-.78.8-2.07 0-2.86zM5.41 20L4 18.59l7.72-7.72 1.47 1.35L5.41 20z\"/>\n",
              "  </svg>\n",
              "      </button>\n",
              "      \n",
              "  <style>\n",
              "    .colab-df-container {\n",
              "      display:flex;\n",
              "      flex-wrap:wrap;\n",
              "      gap: 12px;\n",
              "    }\n",
              "\n",
              "    .colab-df-convert {\n",
              "      background-color: #E8F0FE;\n",
              "      border: none;\n",
              "      border-radius: 50%;\n",
              "      cursor: pointer;\n",
              "      display: none;\n",
              "      fill: #1967D2;\n",
              "      height: 32px;\n",
              "      padding: 0 0 0 0;\n",
              "      width: 32px;\n",
              "    }\n",
              "\n",
              "    .colab-df-convert:hover {\n",
              "      background-color: #E2EBFA;\n",
              "      box-shadow: 0px 1px 2px rgba(60, 64, 67, 0.3), 0px 1px 3px 1px rgba(60, 64, 67, 0.15);\n",
              "      fill: #174EA6;\n",
              "    }\n",
              "\n",
              "    [theme=dark] .colab-df-convert {\n",
              "      background-color: #3B4455;\n",
              "      fill: #D2E3FC;\n",
              "    }\n",
              "\n",
              "    [theme=dark] .colab-df-convert:hover {\n",
              "      background-color: #434B5C;\n",
              "      box-shadow: 0px 1px 3px 1px rgba(0, 0, 0, 0.15);\n",
              "      filter: drop-shadow(0px 1px 2px rgba(0, 0, 0, 0.3));\n",
              "      fill: #FFFFFF;\n",
              "    }\n",
              "  </style>\n",
              "\n",
              "      <script>\n",
              "        const buttonEl =\n",
              "          document.querySelector('#df-41c3a6cd-453f-45e5-b146-92209fa3cf59 button.colab-df-convert');\n",
              "        buttonEl.style.display =\n",
              "          google.colab.kernel.accessAllowed ? 'block' : 'none';\n",
              "\n",
              "        async function convertToInteractive(key) {\n",
              "          const element = document.querySelector('#df-41c3a6cd-453f-45e5-b146-92209fa3cf59');\n",
              "          const dataTable =\n",
              "            await google.colab.kernel.invokeFunction('convertToInteractive',\n",
              "                                                     [key], {});\n",
              "          if (!dataTable) return;\n",
              "\n",
              "          const docLinkHtml = 'Like what you see? Visit the ' +\n",
              "            '<a target=\"_blank\" href=https://colab.research.google.com/notebooks/data_table.ipynb>data table notebook</a>'\n",
              "            + ' to learn more about interactive tables.';\n",
              "          element.innerHTML = '';\n",
              "          dataTable['output_type'] = 'display_data';\n",
              "          await google.colab.output.renderOutput(dataTable, element);\n",
              "          const docLink = document.createElement('div');\n",
              "          docLink.innerHTML = docLinkHtml;\n",
              "          element.appendChild(docLink);\n",
              "        }\n",
              "      </script>\n",
              "    </div>\n",
              "  </div>\n",
              "  "
            ]
          },
          "metadata": {},
          "execution_count": 28
        }
      ]
    },
    {
      "cell_type": "code",
      "source": [
        "df[\"target\"]=df[\"target\"].apply(lambda text:f\"<start> {text} <end>\")"
      ],
      "metadata": {
        "id": "G10zo7rp5Vrq"
      },
      "execution_count": null,
      "outputs": []
    },
    {
      "cell_type": "code",
      "source": [
        "df.head()"
      ],
      "metadata": {
        "colab": {
          "base_uri": "https://localhost:8080/",
          "height": 206
        },
        "id": "qNfnjB2h7MDg",
        "outputId": "974d8014-1efb-49a9-a5c0-0c5dd62e1752"
      },
      "execution_count": null,
      "outputs": [
        {
          "output_type": "execute_result",
          "data": {
            "text/plain": [
              "   input                 target  length_input  length_target\n",
              "0    hi.  <start> مرحبًا. <end>             1              1\n",
              "1   run!    <start> اركض! <end>             1              1\n",
              "2  help!  <start> النجدة! <end>             1              1\n",
              "3  jump!    <start> اقفز! <end>             1              1\n",
              "4  stop!      <start> قف! <end>             1              1"
            ],
            "text/html": [
              "\n",
              "  <div id=\"df-e21aadbb-d564-4400-9f02-79c503488c61\">\n",
              "    <div class=\"colab-df-container\">\n",
              "      <div>\n",
              "<style scoped>\n",
              "    .dataframe tbody tr th:only-of-type {\n",
              "        vertical-align: middle;\n",
              "    }\n",
              "\n",
              "    .dataframe tbody tr th {\n",
              "        vertical-align: top;\n",
              "    }\n",
              "\n",
              "    .dataframe thead th {\n",
              "        text-align: right;\n",
              "    }\n",
              "</style>\n",
              "<table border=\"1\" class=\"dataframe\">\n",
              "  <thead>\n",
              "    <tr style=\"text-align: right;\">\n",
              "      <th></th>\n",
              "      <th>input</th>\n",
              "      <th>target</th>\n",
              "      <th>length_input</th>\n",
              "      <th>length_target</th>\n",
              "    </tr>\n",
              "  </thead>\n",
              "  <tbody>\n",
              "    <tr>\n",
              "      <th>0</th>\n",
              "      <td>hi.</td>\n",
              "      <td>&lt;start&gt; مرحبًا. &lt;end&gt;</td>\n",
              "      <td>1</td>\n",
              "      <td>1</td>\n",
              "    </tr>\n",
              "    <tr>\n",
              "      <th>1</th>\n",
              "      <td>run!</td>\n",
              "      <td>&lt;start&gt; اركض! &lt;end&gt;</td>\n",
              "      <td>1</td>\n",
              "      <td>1</td>\n",
              "    </tr>\n",
              "    <tr>\n",
              "      <th>2</th>\n",
              "      <td>help!</td>\n",
              "      <td>&lt;start&gt; النجدة! &lt;end&gt;</td>\n",
              "      <td>1</td>\n",
              "      <td>1</td>\n",
              "    </tr>\n",
              "    <tr>\n",
              "      <th>3</th>\n",
              "      <td>jump!</td>\n",
              "      <td>&lt;start&gt; اقفز! &lt;end&gt;</td>\n",
              "      <td>1</td>\n",
              "      <td>1</td>\n",
              "    </tr>\n",
              "    <tr>\n",
              "      <th>4</th>\n",
              "      <td>stop!</td>\n",
              "      <td>&lt;start&gt; قف! &lt;end&gt;</td>\n",
              "      <td>1</td>\n",
              "      <td>1</td>\n",
              "    </tr>\n",
              "  </tbody>\n",
              "</table>\n",
              "</div>\n",
              "      <button class=\"colab-df-convert\" onclick=\"convertToInteractive('df-e21aadbb-d564-4400-9f02-79c503488c61')\"\n",
              "              title=\"Convert this dataframe to an interactive table.\"\n",
              "              style=\"display:none;\">\n",
              "        \n",
              "  <svg xmlns=\"http://www.w3.org/2000/svg\" height=\"24px\"viewBox=\"0 0 24 24\"\n",
              "       width=\"24px\">\n",
              "    <path d=\"M0 0h24v24H0V0z\" fill=\"none\"/>\n",
              "    <path d=\"M18.56 5.44l.94 2.06.94-2.06 2.06-.94-2.06-.94-.94-2.06-.94 2.06-2.06.94zm-11 1L8.5 8.5l.94-2.06 2.06-.94-2.06-.94L8.5 2.5l-.94 2.06-2.06.94zm10 10l.94 2.06.94-2.06 2.06-.94-2.06-.94-.94-2.06-.94 2.06-2.06.94z\"/><path d=\"M17.41 7.96l-1.37-1.37c-.4-.4-.92-.59-1.43-.59-.52 0-1.04.2-1.43.59L10.3 9.45l-7.72 7.72c-.78.78-.78 2.05 0 2.83L4 21.41c.39.39.9.59 1.41.59.51 0 1.02-.2 1.41-.59l7.78-7.78 2.81-2.81c.8-.78.8-2.07 0-2.86zM5.41 20L4 18.59l7.72-7.72 1.47 1.35L5.41 20z\"/>\n",
              "  </svg>\n",
              "      </button>\n",
              "      \n",
              "  <style>\n",
              "    .colab-df-container {\n",
              "      display:flex;\n",
              "      flex-wrap:wrap;\n",
              "      gap: 12px;\n",
              "    }\n",
              "\n",
              "    .colab-df-convert {\n",
              "      background-color: #E8F0FE;\n",
              "      border: none;\n",
              "      border-radius: 50%;\n",
              "      cursor: pointer;\n",
              "      display: none;\n",
              "      fill: #1967D2;\n",
              "      height: 32px;\n",
              "      padding: 0 0 0 0;\n",
              "      width: 32px;\n",
              "    }\n",
              "\n",
              "    .colab-df-convert:hover {\n",
              "      background-color: #E2EBFA;\n",
              "      box-shadow: 0px 1px 2px rgba(60, 64, 67, 0.3), 0px 1px 3px 1px rgba(60, 64, 67, 0.15);\n",
              "      fill: #174EA6;\n",
              "    }\n",
              "\n",
              "    [theme=dark] .colab-df-convert {\n",
              "      background-color: #3B4455;\n",
              "      fill: #D2E3FC;\n",
              "    }\n",
              "\n",
              "    [theme=dark] .colab-df-convert:hover {\n",
              "      background-color: #434B5C;\n",
              "      box-shadow: 0px 1px 3px 1px rgba(0, 0, 0, 0.15);\n",
              "      filter: drop-shadow(0px 1px 2px rgba(0, 0, 0, 0.3));\n",
              "      fill: #FFFFFF;\n",
              "    }\n",
              "  </style>\n",
              "\n",
              "      <script>\n",
              "        const buttonEl =\n",
              "          document.querySelector('#df-e21aadbb-d564-4400-9f02-79c503488c61 button.colab-df-convert');\n",
              "        buttonEl.style.display =\n",
              "          google.colab.kernel.accessAllowed ? 'block' : 'none';\n",
              "\n",
              "        async function convertToInteractive(key) {\n",
              "          const element = document.querySelector('#df-e21aadbb-d564-4400-9f02-79c503488c61');\n",
              "          const dataTable =\n",
              "            await google.colab.kernel.invokeFunction('convertToInteractive',\n",
              "                                                     [key], {});\n",
              "          if (!dataTable) return;\n",
              "\n",
              "          const docLinkHtml = 'Like what you see? Visit the ' +\n",
              "            '<a target=\"_blank\" href=https://colab.research.google.com/notebooks/data_table.ipynb>data table notebook</a>'\n",
              "            + ' to learn more about interactive tables.';\n",
              "          element.innerHTML = '';\n",
              "          dataTable['output_type'] = 'display_data';\n",
              "          await google.colab.output.renderOutput(dataTable, element);\n",
              "          const docLink = document.createElement('div');\n",
              "          docLink.innerHTML = docLinkHtml;\n",
              "          element.appendChild(docLink);\n",
              "        }\n",
              "      </script>\n",
              "    </div>\n",
              "  </div>\n",
              "  "
            ]
          },
          "metadata": {},
          "execution_count": 30
        }
      ]
    },
    {
      "cell_type": "code",
      "source": [
        "english=df[\"input\"].to_list()\n",
        "arabic=df[\"target\"].to_list()"
      ],
      "metadata": {
        "id": "DfohXlQ87Rw4"
      },
      "execution_count": null,
      "outputs": []
    },
    {
      "cell_type": "code",
      "source": [
        "print(english[:15])"
      ],
      "metadata": {
        "colab": {
          "base_uri": "https://localhost:8080/"
        },
        "id": "EeDQMvzZ72Pn",
        "outputId": "04ca671f-a42d-40bb-d89b-7f27819ad86e"
      },
      "execution_count": null,
      "outputs": [
        {
          "output_type": "stream",
          "name": "stdout",
          "text": [
            "['hi.', 'run!', 'help!', 'jump!', 'stop!', 'go on.', 'go on.', 'hello!', 'hurry!', 'hurry!', 'i see.', 'i won!', 'smile.', 'cheers!', 'got it?']\n"
          ]
        }
      ]
    },
    {
      "cell_type": "code",
      "source": [
        "print(arabic[:15])"
      ],
      "metadata": {
        "colab": {
          "base_uri": "https://localhost:8080/"
        },
        "id": "mypZfahD79Ej",
        "outputId": "5913cc3e-7ddc-4b19-feaa-2f6a3cc08ebf"
      },
      "execution_count": null,
      "outputs": [
        {
          "output_type": "stream",
          "name": "stdout",
          "text": [
            "['<start> مرحبًا. <end>', '<start> اركض! <end>', '<start> النجدة! <end>', '<start> اقفز! <end>', '<start> قف! <end>', '<start> داوم. <end>', '<start> استمر. <end>', '<start> مرحباً. <end>', '<start> تعجّل! <end>', '<start> استعجل! <end>', '<start> انا اري <end>', '<start> أنا فُزت! <end>', '<start> ابتسم. <end>', '<start> في صحتك. <end>', '<start> هل فهمت؟ <end>']\n"
          ]
        }
      ]
    },
    {
      "cell_type": "code",
      "source": [
        "from sklearn.model_selection import train_test_split\n",
        "X_train,X_test,y_train,y_test=train_test_split(english,arabic,test_size=0.2)"
      ],
      "metadata": {
        "id": "2FGp_OdW8Bc3"
      },
      "execution_count": null,
      "outputs": []
    },
    {
      "cell_type": "code",
      "source": [
        "len(X_train)"
      ],
      "metadata": {
        "colab": {
          "base_uri": "https://localhost:8080/"
        },
        "id": "7nO-yFyQ8Efs",
        "outputId": "55ac21cd-48db-4c06-9b57-25fad1d42fc6"
      },
      "execution_count": null,
      "outputs": [
        {
          "output_type": "execute_result",
          "data": {
            "text/plain": [
              "8593"
            ]
          },
          "metadata": {},
          "execution_count": 36
        }
      ]
    },
    {
      "cell_type": "code",
      "source": [
        "X_train[:10]"
      ],
      "metadata": {
        "colab": {
          "base_uri": "https://localhost:8080/"
        },
        "id": "aDgXPYf98H9M",
        "outputId": "597f0e96-03f5-4f83-f0d8-fba635984b2d"
      },
      "execution_count": null,
      "outputs": [
        {
          "output_type": "execute_result",
          "data": {
            "text/plain": [
              "[\"you'd better hurry up.\",\n",
              " \"tom liked mary's new hairstyle.\",\n",
              " 'no one loves war.',\n",
              " 'he is getting better.',\n",
              " \"don't worry about such a thing.\",\n",
              " \"i've lost your phone number.\",\n",
              " 'it seems interesting to me.',\n",
              " 'come on!',\n",
              " 'i play violin.',\n",
              " 'you should distinguish between right and wrong.']"
            ]
          },
          "metadata": {},
          "execution_count": 37
        }
      ]
    },
    {
      "cell_type": "code",
      "source": [
        "X_test[:2]"
      ],
      "metadata": {
        "colab": {
          "base_uri": "https://localhost:8080/"
        },
        "id": "zpVkslm68Meu",
        "outputId": "a050ca4a-4a91-4f0d-e13c-cb9c45125b0e"
      },
      "execution_count": null,
      "outputs": [
        {
          "output_type": "execute_result",
          "data": {
            "text/plain": [
              "['the road is icy, so take care.',\n",
              " 'we are not the only ones who believe that he is innocent.']"
            ]
          },
          "metadata": {},
          "execution_count": 38
        }
      ]
    },
    {
      "cell_type": "code",
      "source": [
        "len(english),len(arabic)"
      ],
      "metadata": {
        "colab": {
          "base_uri": "https://localhost:8080/"
        },
        "id": "9lWaHbwW8S5b",
        "outputId": "4c2b2988-20bb-41e2-d18e-bf24ba110c1e"
      },
      "execution_count": null,
      "outputs": [
        {
          "output_type": "execute_result",
          "data": {
            "text/plain": [
              "(10742, 10742)"
            ]
          },
          "metadata": {},
          "execution_count": 39
        }
      ]
    },
    {
      "cell_type": "code",
      "source": [
        "len(X_train),len(X_test),len(y_train),len(y_test)"
      ],
      "metadata": {
        "colab": {
          "base_uri": "https://localhost:8080/"
        },
        "id": "rpwr92Yy8aAG",
        "outputId": "2c362e7e-1ad3-444e-a746-cff879f8f9d6"
      },
      "execution_count": null,
      "outputs": [
        {
          "output_type": "execute_result",
          "data": {
            "text/plain": [
              "(8593, 2149, 8593, 2149)"
            ]
          },
          "metadata": {},
          "execution_count": 40
        }
      ]
    },
    {
      "cell_type": "code",
      "source": [
        "tokenizer=Tokenizer()\n",
        "tokenizer.fit_on_texts(english)\n",
        "\n",
        "encoder_vocab=tokenizer.word_index\n",
        "# encoder_vocab"
      ],
      "metadata": {
        "id": "I0MQ3l5w8fu_"
      },
      "execution_count": null,
      "outputs": []
    },
    {
      "cell_type": "code",
      "source": [
        "encoder_vocab_size=len(encoder_vocab)\n",
        "encoder_vocab_size"
      ],
      "metadata": {
        "colab": {
          "base_uri": "https://localhost:8080/"
        },
        "id": "Diey7TDp8lNO",
        "outputId": "a1b131ca-9666-44c3-d68a-9083ab549ffc"
      },
      "execution_count": null,
      "outputs": [
        {
          "output_type": "execute_result",
          "data": {
            "text/plain": [
              "4104"
            ]
          },
          "metadata": {},
          "execution_count": 42
        }
      ]
    },
    {
      "cell_type": "code",
      "source": [
        "X_train_tokens=tokenizer.texts_to_sequences(X_train)\n",
        "X_test_tokens=tokenizer.texts_to_sequences(X_test)"
      ],
      "metadata": {
        "id": "9EzeoBhF8oGK"
      },
      "execution_count": null,
      "outputs": []
    },
    {
      "cell_type": "code",
      "source": [
        "X=X_train_tokens+X_test_tokens"
      ],
      "metadata": {
        "id": "-uMDRELq8rRP"
      },
      "execution_count": null,
      "outputs": []
    },
    {
      "cell_type": "code",
      "source": [
        "len(X)"
      ],
      "metadata": {
        "colab": {
          "base_uri": "https://localhost:8080/"
        },
        "id": "1aOz9HTl8thB",
        "outputId": "f4877fcd-b48c-4b34-f75d-424c1dea3aae"
      },
      "execution_count": null,
      "outputs": [
        {
          "output_type": "execute_result",
          "data": {
            "text/plain": [
              "10742"
            ]
          },
          "metadata": {},
          "execution_count": 45
        }
      ]
    },
    {
      "cell_type": "code",
      "source": [
        "np.array(X_train_tokens[:1]).shape"
      ],
      "metadata": {
        "colab": {
          "base_uri": "https://localhost:8080/"
        },
        "id": "-Ll5aWOt8vvi",
        "outputId": "57b6afb8-803f-4bf0-faea-60b68750584f"
      },
      "execution_count": null,
      "outputs": [
        {
          "output_type": "execute_result",
          "data": {
            "text/plain": [
              "(1, 4)"
            ]
          },
          "metadata": {},
          "execution_count": 46
        }
      ]
    },
    {
      "cell_type": "code",
      "source": [
        "X[:10]"
      ],
      "metadata": {
        "colab": {
          "base_uri": "https://localhost:8080/"
        },
        "id": "gSzbQ4kJ8zYB",
        "outputId": "f205d1ad-d3ed-4bd0-eaa0-121f89e16de1"
      },
      "execution_count": null,
      "outputs": [
        {
          "output_type": "execute_result",
          "data": {
            "text/plain": [
              "[[303, 133, 298, 66],\n",
              " [7, 767, 778, 111, 2199],\n",
              " [60, 47, 271, 329],\n",
              " [8, 6, 348, 133],\n",
              " [25, 251, 51, 315, 5, 268],\n",
              " [85, 170, 18, 343, 541],\n",
              " [17, 583, 620, 4, 9],\n",
              " [45, 32],\n",
              " [1, 148, 1266],\n",
              " [2, 97, 2389, 932, 124, 46, 234]]"
            ]
          },
          "metadata": {},
          "execution_count": 47
        }
      ]
    },
    {
      "cell_type": "code",
      "source": [
        "max_input_length=max([len(i) for i in X])\n",
        "max_input_length"
      ],
      "metadata": {
        "colab": {
          "base_uri": "https://localhost:8080/"
        },
        "id": "lVWQtYDc855t",
        "outputId": "ab0c10ca-4711-4f58-c428-355b3cf59ae8"
      },
      "execution_count": null,
      "outputs": [
        {
          "output_type": "execute_result",
          "data": {
            "text/plain": [
              "34"
            ]
          },
          "metadata": {},
          "execution_count": 48
        }
      ]
    },
    {
      "cell_type": "code",
      "source": [
        "tokenizer_decoder=Tokenizer()\n",
        "tokenizer_decoder.fit_on_texts(arabic)\n",
        "\n",
        "decoder_vacab=tokenizer_decoder.word_index"
      ],
      "metadata": {
        "id": "SzBHutU08_FM"
      },
      "execution_count": null,
      "outputs": []
    },
    {
      "cell_type": "code",
      "source": [
        "decoder_vacab_size=len(decoder_vacab)+1\n",
        "decoder_vacab_size"
      ],
      "metadata": {
        "colab": {
          "base_uri": "https://localhost:8080/"
        },
        "id": "mNEC0HFF9EYp",
        "outputId": "becf72ed-adf2-4ece-a0dd-26623de34b9a"
      },
      "execution_count": null,
      "outputs": [
        {
          "output_type": "execute_result",
          "data": {
            "text/plain": [
              "12031"
            ]
          },
          "metadata": {},
          "execution_count": 50
        }
      ]
    },
    {
      "cell_type": "code",
      "source": [
        "y_train_tokens=tokenizer_decoder.texts_to_sequences(y_train)\n",
        "y_test_tokens=tokenizer_decoder.texts_to_sequences(y_test)"
      ],
      "metadata": {
        "id": "eYDzVm3W9Gsb"
      },
      "execution_count": null,
      "outputs": []
    },
    {
      "cell_type": "code",
      "source": [
        "y=y_train_tokens+y_test_tokens"
      ],
      "metadata": {
        "id": "rB76tNg09JU-"
      },
      "execution_count": null,
      "outputs": []
    },
    {
      "cell_type": "code",
      "source": [
        "decoder_int_vacab={idx:word for word,idx in decoder_vacab.items()}\n",
        "for i in y[0]:\n",
        "  print(decoder_int_vacab[i],i)"
      ],
      "metadata": {
        "colab": {
          "base_uri": "https://localhost:8080/"
        },
        "id": "e9S6o6a79MzA",
        "outputId": "aec694b4-4bd7-47a6-b64d-e2ccb3e17f7e"
      },
      "execution_count": null,
      "outputs": [
        {
          "output_type": "stream",
          "name": "stdout",
          "text": [
            "start 1\n",
            "من 3\n",
            "الأفضل 161\n",
            "لك 44\n",
            "أن 4\n",
            "تسرع 2260\n",
            "end 2\n"
          ]
        }
      ]
    },
    {
      "cell_type": "code",
      "source": [
        "decoder_input,decoder_output=[],[]\n",
        "for i in y:\n",
        "  decoder_input.append(i[:-1])\n",
        "  decoder_output.append(i[1:])"
      ],
      "metadata": {
        "id": "HrSM4dxQ9TAF"
      },
      "execution_count": null,
      "outputs": []
    },
    {
      "cell_type": "code",
      "source": [
        "max_target_length=max([len(i) for i in y])\n",
        "max_target_length"
      ],
      "metadata": {
        "colab": {
          "base_uri": "https://localhost:8080/"
        },
        "id": "NN5vmoWM9Yde",
        "outputId": "b8c44b0c-a9ce-4833-90a8-604d6574e9b8"
      },
      "execution_count": null,
      "outputs": [
        {
          "output_type": "execute_result",
          "data": {
            "text/plain": [
              "38"
            ]
          },
          "metadata": {},
          "execution_count": 55
        }
      ]
    },
    {
      "cell_type": "code",
      "source": [
        "# pad sequences\n",
        "encoder_input_seqs=pad_sequences(X,maxlen=max_input_length,padding=\"pre\")\n",
        "decoder_input_seqs=pad_sequences(decoder_input,maxlen=max_target_length,padding=\"post\")\n",
        "decoder_output_seqs=pad_sequences(decoder_output,maxlen=max_target_length,padding=\"post\")"
      ],
      "metadata": {
        "id": "8FSABpg69bLO"
      },
      "execution_count": null,
      "outputs": []
    },
    {
      "cell_type": "code",
      "source": [
        "encoder_input_seqs.shape"
      ],
      "metadata": {
        "colab": {
          "base_uri": "https://localhost:8080/"
        },
        "id": "k79n9x1B9gqb",
        "outputId": "df8dbabd-afeb-428f-f6b9-78bb209c5dde"
      },
      "execution_count": null,
      "outputs": [
        {
          "output_type": "execute_result",
          "data": {
            "text/plain": [
              "(10742, 34)"
            ]
          },
          "metadata": {},
          "execution_count": 57
        }
      ]
    },
    {
      "cell_type": "code",
      "source": [
        "decoder_input_seqs[0]"
      ],
      "metadata": {
        "colab": {
          "base_uri": "https://localhost:8080/"
        },
        "id": "HffZvRry9jn8",
        "outputId": "fb26c231-dc6b-4f7e-8f84-3f3892fbce23"
      },
      "execution_count": null,
      "outputs": [
        {
          "output_type": "execute_result",
          "data": {
            "text/plain": [
              "array([   1,    3,  161,   44,    4, 2260,    0,    0,    0,    0,    0,\n",
              "          0,    0,    0,    0,    0,    0,    0,    0,    0,    0,    0,\n",
              "          0,    0,    0,    0,    0,    0,    0,    0,    0,    0,    0,\n",
              "          0,    0,    0,    0,    0], dtype=int32)"
            ]
          },
          "metadata": {},
          "execution_count": 58
        }
      ]
    },
    {
      "cell_type": "code",
      "source": [
        "decoder_output_seqs[0]"
      ],
      "metadata": {
        "colab": {
          "base_uri": "https://localhost:8080/"
        },
        "id": "tWyotvoj9mIp",
        "outputId": "389b67d8-511d-45ef-9ce0-55715cb90cfd"
      },
      "execution_count": null,
      "outputs": [
        {
          "output_type": "execute_result",
          "data": {
            "text/plain": [
              "array([   3,  161,   44,    4, 2260,    2,    0,    0,    0,    0,    0,\n",
              "          0,    0,    0,    0,    0,    0,    0,    0,    0,    0,    0,\n",
              "          0,    0,    0,    0,    0,    0,    0,    0,    0,    0,    0,\n",
              "          0,    0,    0,    0,    0], dtype=int32)"
            ]
          },
          "metadata": {},
          "execution_count": 59
        }
      ]
    },
    {
      "cell_type": "code",
      "source": [
        "decoder_output_seqs.shape"
      ],
      "metadata": {
        "colab": {
          "base_uri": "https://localhost:8080/"
        },
        "id": "_905afn59qPp",
        "outputId": "4746d1d3-78b5-45a2-fc95-9b7b6ae97bc6"
      },
      "execution_count": null,
      "outputs": [
        {
          "output_type": "execute_result",
          "data": {
            "text/plain": [
              "(10742, 38)"
            ]
          },
          "metadata": {},
          "execution_count": 60
        }
      ]
    },
    {
      "cell_type": "code",
      "source": [
        "decoder_input_seqs[:2]"
      ],
      "metadata": {
        "colab": {
          "base_uri": "https://localhost:8080/"
        },
        "id": "6dy2crvX9tcQ",
        "outputId": "b691c65a-4c05-470c-8174-27d007d41537"
      },
      "execution_count": null,
      "outputs": [
        {
          "output_type": "execute_result",
          "data": {
            "text/plain": [
              "array([[   1,    3,  161,   44,    4, 2260,    0,    0,    0,    0,    0,\n",
              "           0,    0,    0,    0,    0,    0,    0,    0,    0,    0,    0,\n",
              "           0,    0,    0,    0,    0,    0,    0,    0,    0,    0,    0,\n",
              "           0,    0,    0,    0,    0],\n",
              "       [   1,   50,    5, 8113, 1245,   43,  488,    0,    0,    0,    0,\n",
              "           0,    0,    0,    0,    0,    0,    0,    0,    0,    0,    0,\n",
              "           0,    0,    0,    0,    0,    0,    0,    0,    0,    0,    0,\n",
              "           0,    0,    0,    0,    0]], dtype=int32)"
            ]
          },
          "metadata": {},
          "execution_count": 61
        }
      ]
    },
    {
      "cell_type": "code",
      "source": [
        "decoder_output_seqs[:2]"
      ],
      "metadata": {
        "colab": {
          "base_uri": "https://localhost:8080/"
        },
        "id": "J7bJeDTi9wLn",
        "outputId": "5a41fb02-101b-4c1a-8feb-400aa4802268"
      },
      "execution_count": null,
      "outputs": [
        {
          "output_type": "execute_result",
          "data": {
            "text/plain": [
              "array([[   3,  161,   44,    4, 2260,    2,    0,    0,    0,    0,    0,\n",
              "           0,    0,    0,    0,    0,    0,    0,    0,    0,    0,    0,\n",
              "           0,    0,    0,    0,    0,    0,    0,    0,    0,    0,    0,\n",
              "           0,    0,    0,    0,    0],\n",
              "       [  50,    5, 8113, 1245,   43,  488,    2,    0,    0,    0,    0,\n",
              "           0,    0,    0,    0,    0,    0,    0,    0,    0,    0,    0,\n",
              "           0,    0,    0,    0,    0,    0,    0,    0,    0,    0,    0,\n",
              "           0,    0,    0,    0,    0]], dtype=int32)"
            ]
          },
          "metadata": {},
          "execution_count": 62
        }
      ]
    },
    {
      "cell_type": "code",
      "source": [
        "decoder_vacab_size"
      ],
      "metadata": {
        "colab": {
          "base_uri": "https://localhost:8080/"
        },
        "id": "W_gBwjk49zmB",
        "outputId": "8cd07ee6-945f-4802-8afd-907facda2213"
      },
      "execution_count": null,
      "outputs": [
        {
          "output_type": "execute_result",
          "data": {
            "text/plain": [
              "12031"
            ]
          },
          "metadata": {},
          "execution_count": 63
        }
      ]
    },
    {
      "cell_type": "code",
      "source": [
        "encoder_input_layer=Input(shape=(None,))\n",
        "encoder_embedd=Embedding(encoder_vocab_size,256)(encoder_input_layer)\n",
        "_,state_h,state_c=encoder_lstm=LSTM(256,return_state=True)(encoder_embedd)\n",
        "encoder_states=[state_h,state_c]"
      ],
      "metadata": {
        "id": "VrokohAw93ej"
      },
      "execution_count": null,
      "outputs": []
    },
    {
      "cell_type": "code",
      "source": [
        "decoder_input_layer=Input(shape=(None,))\n",
        "decoder_embedd=Embedding(decoder_vacab_size,256)(decoder_input_layer)\n",
        "decoder_lstm=LSTM(256,return_sequences=True)(decoder_embedd,initial_state=encoder_states)\n",
        "decoder_outputs=Dense(decoder_vacab_size+1,activation=\"softmax\")(decoder_lstm)\n",
        "model_eng2ar=Model([encoder_input_layer,decoder_input_layer],decoder_outputs)\n",
        "model_eng2ar.summary()"
      ],
      "metadata": {
        "colab": {
          "base_uri": "https://localhost:8080/"
        },
        "id": "_Mp--TrW96Ym",
        "outputId": "a9e12dde-8109-46b6-9287-7cc39f83619d"
      },
      "execution_count": null,
      "outputs": [
        {
          "output_type": "stream",
          "name": "stdout",
          "text": [
            "Model: \"model\"\n",
            "__________________________________________________________________________________________________\n",
            " Layer (type)                   Output Shape         Param #     Connected to                     \n",
            "==================================================================================================\n",
            " input_1 (InputLayer)           [(None, None)]       0           []                               \n",
            "                                                                                                  \n",
            " input_3 (InputLayer)           [(None, None)]       0           []                               \n",
            "                                                                                                  \n",
            " embedding (Embedding)          (None, None, 256)    1050624     ['input_1[0][0]']                \n",
            "                                                                                                  \n",
            " embedding_2 (Embedding)        (None, None, 256)    3079936     ['input_3[0][0]']                \n",
            "                                                                                                  \n",
            " lstm (LSTM)                    [(None, 256),        525312      ['embedding[0][0]']              \n",
            "                                 (None, 256),                                                     \n",
            "                                 (None, 256)]                                                     \n",
            "                                                                                                  \n",
            " lstm_1 (LSTM)                  (None, None, 256)    525312      ['embedding_2[0][0]',            \n",
            "                                                                  'lstm[0][1]',                   \n",
            "                                                                  'lstm[0][2]']                   \n",
            "                                                                                                  \n",
            " dense (Dense)                  (None, None, 12032)  3092224     ['lstm_1[0][0]']                 \n",
            "                                                                                                  \n",
            "==================================================================================================\n",
            "Total params: 8,273,408\n",
            "Trainable params: 8,273,408\n",
            "Non-trainable params: 0\n",
            "__________________________________________________________________________________________________\n"
          ]
        }
      ]
    },
    {
      "cell_type": "code",
      "source": [
        "encoder_input_seqs.shape"
      ],
      "metadata": {
        "colab": {
          "base_uri": "https://localhost:8080/"
        },
        "id": "G7vhO3eH-AVW",
        "outputId": "0669d236-c060-4261-fc87-ba9140a4c7c2"
      },
      "execution_count": null,
      "outputs": [
        {
          "output_type": "execute_result",
          "data": {
            "text/plain": [
              "(10742, 34)"
            ]
          },
          "metadata": {},
          "execution_count": 67
        }
      ]
    },
    {
      "cell_type": "code",
      "source": [
        "decoder_input_seqs.shape,decoder_output_seqs.shape"
      ],
      "metadata": {
        "colab": {
          "base_uri": "https://localhost:8080/"
        },
        "id": "F9R1k5Y7-QtC",
        "outputId": "2403d2a5-4504-44e0-d3a1-d4651909ad18"
      },
      "execution_count": null,
      "outputs": [
        {
          "output_type": "execute_result",
          "data": {
            "text/plain": [
              "((10742, 38), (10742, 38))"
            ]
          },
          "metadata": {},
          "execution_count": 68
        }
      ]
    },
    {
      "cell_type": "code",
      "source": [
        "BATCH_SIZE = 64\n",
        "EPOCHS = 200\n",
        "loss = tf.losses.SparseCategoricalCrossentropy()\n",
        "model_eng2ar.compile(optimizer='rmsprop', loss=loss, metrics=['accuracy'])\n",
        "history=model_eng2ar.fit([encoder_input_seqs, decoder_input_seqs], decoder_output_seqs,\n",
        "          batch_size=BATCH_SIZE,\n",
        "          epochs=EPOCHS)"
      ],
      "metadata": {
        "colab": {
          "base_uri": "https://localhost:8080/"
        },
        "id": "-YhlFNmb-TAV",
        "outputId": "22da079c-5935-4df6-fcfd-caf5cf73d000"
      },
      "execution_count": null,
      "outputs": [
        {
          "output_type": "stream",
          "name": "stdout",
          "text": [
            "Epoch 1/200\n",
            "168/168 [==============================] - 29s 120ms/step - loss: 1.4762 - accuracy: 0.8611\n",
            "Epoch 2/200\n",
            "168/168 [==============================] - 9s 56ms/step - loss: 0.9448 - accuracy: 0.8869\n",
            "Epoch 3/200\n",
            "168/168 [==============================] - 8s 49ms/step - loss: 0.9309 - accuracy: 0.8872\n",
            "Epoch 4/200\n",
            "168/168 [==============================] - 8s 45ms/step - loss: 0.9246 - accuracy: 0.8873\n",
            "Epoch 5/200\n",
            "168/168 [==============================] - 7s 45ms/step - loss: 0.9161 - accuracy: 0.8876\n",
            "Epoch 6/200\n",
            "168/168 [==============================] - 7s 43ms/step - loss: 0.9084 - accuracy: 0.8880\n",
            "Epoch 7/200\n",
            "168/168 [==============================] - 8s 45ms/step - loss: 0.9038 - accuracy: 0.8881\n",
            "Epoch 8/200\n",
            "168/168 [==============================] - 8s 47ms/step - loss: 0.8999 - accuracy: 0.8882\n",
            "Epoch 9/200\n",
            "168/168 [==============================] - 7s 43ms/step - loss: 0.8961 - accuracy: 0.8882\n",
            "Epoch 10/200\n",
            "168/168 [==============================] - 7s 43ms/step - loss: 0.8920 - accuracy: 0.8884\n",
            "Epoch 11/200\n",
            "168/168 [==============================] - 7s 41ms/step - loss: 0.8874 - accuracy: 0.8886\n",
            "Epoch 12/200\n",
            "168/168 [==============================] - 7s 44ms/step - loss: 0.8826 - accuracy: 0.8887\n",
            "Epoch 13/200\n",
            "168/168 [==============================] - 7s 42ms/step - loss: 0.8778 - accuracy: 0.8887\n",
            "Epoch 14/200\n",
            "168/168 [==============================] - 8s 46ms/step - loss: 0.8727 - accuracy: 0.8890\n",
            "Epoch 15/200\n",
            "168/168 [==============================] - 8s 45ms/step - loss: 0.8677 - accuracy: 0.8894\n",
            "Epoch 16/200\n",
            "168/168 [==============================] - 8s 45ms/step - loss: 0.8620 - accuracy: 0.8899\n",
            "Epoch 17/200\n",
            "168/168 [==============================] - 8s 49ms/step - loss: 0.8565 - accuracy: 0.8902\n",
            "Epoch 18/200\n",
            "168/168 [==============================] - 8s 45ms/step - loss: 0.8506 - accuracy: 0.8905\n",
            "Epoch 19/200\n",
            "168/168 [==============================] - 7s 42ms/step - loss: 0.8453 - accuracy: 0.8908\n",
            "Epoch 20/200\n",
            "168/168 [==============================] - 7s 43ms/step - loss: 0.8396 - accuracy: 0.8909\n",
            "Epoch 21/200\n",
            "168/168 [==============================] - 7s 41ms/step - loss: 0.8341 - accuracy: 0.8911\n",
            "Epoch 22/200\n",
            "168/168 [==============================] - 7s 43ms/step - loss: 0.8291 - accuracy: 0.8913\n",
            "Epoch 23/200\n",
            "168/168 [==============================] - 7s 41ms/step - loss: 0.8236 - accuracy: 0.8914\n",
            "Epoch 24/200\n",
            "168/168 [==============================] - 8s 45ms/step - loss: 0.8184 - accuracy: 0.8916\n",
            "Epoch 25/200\n",
            "168/168 [==============================] - 7s 45ms/step - loss: 0.8135 - accuracy: 0.8919\n",
            "Epoch 26/200\n",
            "168/168 [==============================] - 7s 41ms/step - loss: 0.8080 - accuracy: 0.8921\n",
            "Epoch 27/200\n",
            "168/168 [==============================] - 7s 44ms/step - loss: 0.8030 - accuracy: 0.8922\n",
            "Epoch 28/200\n",
            "168/168 [==============================] - 7s 42ms/step - loss: 0.7980 - accuracy: 0.8926\n",
            "Epoch 29/200\n",
            "168/168 [==============================] - 7s 42ms/step - loss: 0.7931 - accuracy: 0.8928\n",
            "Epoch 30/200\n",
            "168/168 [==============================] - 7s 43ms/step - loss: 0.7880 - accuracy: 0.8931\n",
            "Epoch 31/200\n",
            "168/168 [==============================] - 7s 43ms/step - loss: 0.7832 - accuracy: 0.8935\n",
            "Epoch 32/200\n",
            "168/168 [==============================] - 7s 43ms/step - loss: 0.7781 - accuracy: 0.8938\n",
            "Epoch 33/200\n",
            "168/168 [==============================] - 7s 41ms/step - loss: 0.7737 - accuracy: 0.8939\n",
            "Epoch 34/200\n",
            "168/168 [==============================] - 7s 42ms/step - loss: 0.7688 - accuracy: 0.8940\n",
            "Epoch 35/200\n",
            "168/168 [==============================] - 7s 41ms/step - loss: 0.7639 - accuracy: 0.8944\n",
            "Epoch 36/200\n",
            "168/168 [==============================] - 7s 43ms/step - loss: 0.7590 - accuracy: 0.8945\n",
            "Epoch 37/200\n",
            "168/168 [==============================] - 8s 50ms/step - loss: 0.7537 - accuracy: 0.8949\n",
            "Epoch 38/200\n",
            "168/168 [==============================] - 7s 42ms/step - loss: 0.7486 - accuracy: 0.8952\n",
            "Epoch 39/200\n",
            "168/168 [==============================] - 8s 47ms/step - loss: 0.7434 - accuracy: 0.8956\n",
            "Epoch 40/200\n",
            "168/168 [==============================] - 7s 44ms/step - loss: 0.7377 - accuracy: 0.8960\n",
            "Epoch 41/200\n",
            "168/168 [==============================] - 7s 42ms/step - loss: 0.7321 - accuracy: 0.8966\n",
            "Epoch 42/200\n",
            "168/168 [==============================] - 7s 42ms/step - loss: 0.7266 - accuracy: 0.8968\n",
            "Epoch 43/200\n",
            "168/168 [==============================] - 7s 41ms/step - loss: 0.7211 - accuracy: 0.8973\n",
            "Epoch 44/200\n",
            "168/168 [==============================] - 7s 42ms/step - loss: 0.7153 - accuracy: 0.8977\n",
            "Epoch 45/200\n",
            "168/168 [==============================] - 7s 41ms/step - loss: 0.7097 - accuracy: 0.8980\n",
            "Epoch 46/200\n",
            "168/168 [==============================] - 7s 42ms/step - loss: 0.7043 - accuracy: 0.8984\n",
            "Epoch 47/200\n",
            "168/168 [==============================] - 7s 41ms/step - loss: 0.6986 - accuracy: 0.8987\n",
            "Epoch 48/200\n",
            "168/168 [==============================] - 7s 41ms/step - loss: 0.6929 - accuracy: 0.8992\n",
            "Epoch 49/200\n",
            "168/168 [==============================] - 7s 42ms/step - loss: 0.6871 - accuracy: 0.8995\n",
            "Epoch 50/200\n",
            "168/168 [==============================] - 7s 41ms/step - loss: 0.6819 - accuracy: 0.9000\n",
            "Epoch 51/200\n",
            "168/168 [==============================] - 7s 42ms/step - loss: 0.6758 - accuracy: 0.9004\n",
            "Epoch 52/200\n",
            "168/168 [==============================] - 7s 41ms/step - loss: 0.6704 - accuracy: 0.9008\n",
            "Epoch 53/200\n",
            "168/168 [==============================] - 7s 42ms/step - loss: 0.6647 - accuracy: 0.9012\n",
            "Epoch 54/200\n",
            "168/168 [==============================] - 7s 41ms/step - loss: 0.6590 - accuracy: 0.9016\n",
            "Epoch 55/200\n",
            "168/168 [==============================] - 7s 41ms/step - loss: 0.6535 - accuracy: 0.9020\n",
            "Epoch 56/200\n",
            "168/168 [==============================] - 7s 42ms/step - loss: 0.6481 - accuracy: 0.9024\n",
            "Epoch 57/200\n",
            "168/168 [==============================] - 7s 42ms/step - loss: 0.6426 - accuracy: 0.9028\n",
            "Epoch 58/200\n",
            "168/168 [==============================] - 7s 43ms/step - loss: 0.6374 - accuracy: 0.9032\n",
            "Epoch 59/200\n",
            "168/168 [==============================] - 7s 43ms/step - loss: 0.6316 - accuracy: 0.9036\n",
            "Epoch 60/200\n",
            "168/168 [==============================] - 7s 41ms/step - loss: 0.6269 - accuracy: 0.9040\n",
            "Epoch 61/200\n",
            "168/168 [==============================] - 7s 43ms/step - loss: 0.6211 - accuracy: 0.9045\n",
            "Epoch 62/200\n",
            "168/168 [==============================] - 7s 41ms/step - loss: 0.6159 - accuracy: 0.9048\n",
            "Epoch 63/200\n",
            "168/168 [==============================] - 7s 42ms/step - loss: 0.6108 - accuracy: 0.9050\n",
            "Epoch 64/200\n",
            "168/168 [==============================] - 7s 41ms/step - loss: 0.6056 - accuracy: 0.9056\n",
            "Epoch 65/200\n",
            "168/168 [==============================] - 7s 42ms/step - loss: 0.5999 - accuracy: 0.9059\n",
            "Epoch 66/200\n",
            "168/168 [==============================] - 7s 41ms/step - loss: 0.5950 - accuracy: 0.9063\n",
            "Epoch 67/200\n",
            "168/168 [==============================] - 7s 43ms/step - loss: 0.5896 - accuracy: 0.9068\n",
            "Epoch 68/200\n",
            "168/168 [==============================] - 7s 41ms/step - loss: 0.5846 - accuracy: 0.9072\n",
            "Epoch 69/200\n",
            "168/168 [==============================] - 7s 41ms/step - loss: 0.5795 - accuracy: 0.9075\n",
            "Epoch 70/200\n",
            "168/168 [==============================] - 7s 41ms/step - loss: 0.5743 - accuracy: 0.9080\n",
            "Epoch 71/200\n",
            "168/168 [==============================] - 7s 41ms/step - loss: 0.5691 - accuracy: 0.9083\n",
            "Epoch 72/200\n",
            "168/168 [==============================] - 7s 42ms/step - loss: 0.5641 - accuracy: 0.9089\n",
            "Epoch 73/200\n",
            "168/168 [==============================] - 7s 44ms/step - loss: 0.5590 - accuracy: 0.9092\n",
            "Epoch 74/200\n",
            "168/168 [==============================] - 8s 46ms/step - loss: 0.5542 - accuracy: 0.9095\n",
            "Epoch 75/200\n",
            "168/168 [==============================] - 7s 43ms/step - loss: 0.5490 - accuracy: 0.9102\n",
            "Epoch 76/200\n",
            "168/168 [==============================] - 7s 42ms/step - loss: 0.5442 - accuracy: 0.9105\n",
            "Epoch 77/200\n",
            "168/168 [==============================] - 7s 45ms/step - loss: 0.5389 - accuracy: 0.9109\n",
            "Epoch 78/200\n",
            "168/168 [==============================] - 7s 44ms/step - loss: 0.5340 - accuracy: 0.9114\n",
            "Epoch 79/200\n",
            "168/168 [==============================] - 7s 41ms/step - loss: 0.5292 - accuracy: 0.9118\n",
            "Epoch 80/200\n",
            "168/168 [==============================] - 7s 43ms/step - loss: 0.5244 - accuracy: 0.9122\n",
            "Epoch 81/200\n",
            "168/168 [==============================] - 7s 41ms/step - loss: 0.5193 - accuracy: 0.9128\n",
            "Epoch 82/200\n",
            "168/168 [==============================] - 7s 44ms/step - loss: 0.5144 - accuracy: 0.9132\n",
            "Epoch 83/200\n",
            "168/168 [==============================] - 7s 41ms/step - loss: 0.5099 - accuracy: 0.9135\n",
            "Epoch 84/200\n",
            "168/168 [==============================] - 7s 42ms/step - loss: 0.5050 - accuracy: 0.9140\n",
            "Epoch 85/200\n",
            "168/168 [==============================] - 7s 43ms/step - loss: 0.5002 - accuracy: 0.9144\n",
            "Epoch 86/200\n",
            "168/168 [==============================] - 7s 42ms/step - loss: 0.4954 - accuracy: 0.9150\n",
            "Epoch 87/200\n",
            "168/168 [==============================] - 7s 42ms/step - loss: 0.4906 - accuracy: 0.9155\n",
            "Epoch 88/200\n",
            "168/168 [==============================] - 7s 41ms/step - loss: 0.4860 - accuracy: 0.9160\n",
            "Epoch 89/200\n",
            "168/168 [==============================] - 7s 42ms/step - loss: 0.4812 - accuracy: 0.9164\n",
            "Epoch 90/200\n",
            "168/168 [==============================] - 7s 41ms/step - loss: 0.4765 - accuracy: 0.9168\n",
            "Epoch 91/200\n",
            "168/168 [==============================] - 7s 42ms/step - loss: 0.4722 - accuracy: 0.9173\n",
            "Epoch 92/200\n",
            "168/168 [==============================] - 7s 41ms/step - loss: 0.4672 - accuracy: 0.9180\n",
            "Epoch 93/200\n",
            "168/168 [==============================] - 7s 41ms/step - loss: 0.4629 - accuracy: 0.9183\n",
            "Epoch 94/200\n",
            "168/168 [==============================] - 7s 42ms/step - loss: 0.4583 - accuracy: 0.9189\n",
            "Epoch 95/200\n",
            "168/168 [==============================] - 7s 41ms/step - loss: 0.4536 - accuracy: 0.9194\n",
            "Epoch 96/200\n",
            "168/168 [==============================] - 7s 42ms/step - loss: 0.4493 - accuracy: 0.9200\n",
            "Epoch 97/200\n",
            "168/168 [==============================] - 7s 42ms/step - loss: 0.4445 - accuracy: 0.9203\n",
            "Epoch 98/200\n",
            "168/168 [==============================] - 7s 42ms/step - loss: 0.4400 - accuracy: 0.9207\n",
            "Epoch 99/200\n",
            "168/168 [==============================] - 7s 44ms/step - loss: 0.4360 - accuracy: 0.9212\n",
            "Epoch 100/200\n",
            "168/168 [==============================] - 7s 41ms/step - loss: 0.4316 - accuracy: 0.9218\n",
            "Epoch 101/200\n",
            "168/168 [==============================] - 7s 42ms/step - loss: 0.4273 - accuracy: 0.9223\n",
            "Epoch 102/200\n",
            "168/168 [==============================] - 7s 41ms/step - loss: 0.4225 - accuracy: 0.9230\n",
            "Epoch 103/200\n",
            "168/168 [==============================] - 7s 42ms/step - loss: 0.4184 - accuracy: 0.9234\n",
            "Epoch 104/200\n",
            "168/168 [==============================] - 7s 43ms/step - loss: 0.4141 - accuracy: 0.9237\n",
            "Epoch 105/200\n",
            "168/168 [==============================] - 7s 42ms/step - loss: 0.4101 - accuracy: 0.9244\n",
            "Epoch 106/200\n",
            "168/168 [==============================] - 7s 42ms/step - loss: 0.4055 - accuracy: 0.9250\n",
            "Epoch 107/200\n",
            "168/168 [==============================] - 7s 41ms/step - loss: 0.4013 - accuracy: 0.9253\n",
            "Epoch 108/200\n",
            "168/168 [==============================] - 7s 42ms/step - loss: 0.3970 - accuracy: 0.9261\n",
            "Epoch 109/200\n",
            "168/168 [==============================] - 7s 41ms/step - loss: 0.3926 - accuracy: 0.9266\n",
            "Epoch 110/200\n",
            "168/168 [==============================] - 7s 42ms/step - loss: 0.3888 - accuracy: 0.9270\n",
            "Epoch 111/200\n",
            "168/168 [==============================] - 7s 41ms/step - loss: 0.3845 - accuracy: 0.9277\n",
            "Epoch 112/200\n",
            "168/168 [==============================] - 7s 43ms/step - loss: 0.3802 - accuracy: 0.9282\n",
            "Epoch 113/200\n",
            "168/168 [==============================] - 7s 42ms/step - loss: 0.3764 - accuracy: 0.9286\n",
            "Epoch 114/200\n",
            "168/168 [==============================] - 7s 41ms/step - loss: 0.3723 - accuracy: 0.9294\n",
            "Epoch 115/200\n",
            "168/168 [==============================] - 7s 43ms/step - loss: 0.3686 - accuracy: 0.9297\n",
            "Epoch 116/200\n",
            "168/168 [==============================] - 7s 41ms/step - loss: 0.3643 - accuracy: 0.9302\n",
            "Epoch 117/200\n",
            "168/168 [==============================] - 7s 43ms/step - loss: 0.3603 - accuracy: 0.9309\n",
            "Epoch 118/200\n",
            "168/168 [==============================] - 7s 42ms/step - loss: 0.3564 - accuracy: 0.9313\n",
            "Epoch 119/200\n",
            "168/168 [==============================] - 7s 42ms/step - loss: 0.3525 - accuracy: 0.9317\n",
            "Epoch 120/200\n",
            "168/168 [==============================] - 7s 42ms/step - loss: 0.3485 - accuracy: 0.9326\n",
            "Epoch 121/200\n",
            "168/168 [==============================] - 7s 41ms/step - loss: 0.3448 - accuracy: 0.9331\n",
            "Epoch 122/200\n",
            "168/168 [==============================] - 7s 42ms/step - loss: 0.3413 - accuracy: 0.9333\n",
            "Epoch 123/200\n",
            "168/168 [==============================] - 7s 41ms/step - loss: 0.3372 - accuracy: 0.9342\n",
            "Epoch 124/200\n",
            "168/168 [==============================] - 7s 42ms/step - loss: 0.3333 - accuracy: 0.9349\n",
            "Epoch 125/200\n",
            "168/168 [==============================] - 7s 42ms/step - loss: 0.3293 - accuracy: 0.9356\n",
            "Epoch 126/200\n",
            "168/168 [==============================] - 7s 41ms/step - loss: 0.3257 - accuracy: 0.9362\n",
            "Epoch 127/200\n",
            "168/168 [==============================] - 7s 41ms/step - loss: 0.3223 - accuracy: 0.9368\n",
            "Epoch 128/200\n",
            "168/168 [==============================] - 7s 42ms/step - loss: 0.3184 - accuracy: 0.9372\n",
            "Epoch 129/200\n",
            "168/168 [==============================] - 7s 42ms/step - loss: 0.3146 - accuracy: 0.9380\n",
            "Epoch 130/200\n",
            "168/168 [==============================] - 7s 42ms/step - loss: 0.3108 - accuracy: 0.9386\n",
            "Epoch 131/200\n",
            "168/168 [==============================] - 7s 42ms/step - loss: 0.3076 - accuracy: 0.9391\n",
            "Epoch 132/200\n",
            "168/168 [==============================] - 7s 42ms/step - loss: 0.3036 - accuracy: 0.9398\n",
            "Epoch 133/200\n",
            "168/168 [==============================] - 7s 41ms/step - loss: 0.3002 - accuracy: 0.9404\n",
            "Epoch 134/200\n",
            "168/168 [==============================] - 7s 42ms/step - loss: 0.2968 - accuracy: 0.9410\n",
            "Epoch 135/200\n",
            "168/168 [==============================] - 7s 41ms/step - loss: 0.2934 - accuracy: 0.9417\n",
            "Epoch 136/200\n",
            "168/168 [==============================] - 7s 42ms/step - loss: 0.2900 - accuracy: 0.9423\n",
            "Epoch 137/200\n",
            "168/168 [==============================] - 7s 41ms/step - loss: 0.2861 - accuracy: 0.9430\n",
            "Epoch 138/200\n",
            "168/168 [==============================] - 7s 42ms/step - loss: 0.2829 - accuracy: 0.9437\n",
            "Epoch 139/200\n",
            "168/168 [==============================] - 7s 42ms/step - loss: 0.2798 - accuracy: 0.9443\n",
            "Epoch 140/200\n",
            "168/168 [==============================] - 7s 41ms/step - loss: 0.2766 - accuracy: 0.9449\n",
            "Epoch 141/200\n",
            "168/168 [==============================] - 7s 42ms/step - loss: 0.2729 - accuracy: 0.9458\n",
            "Epoch 142/200\n",
            "168/168 [==============================] - 7s 42ms/step - loss: 0.2697 - accuracy: 0.9464\n",
            "Epoch 143/200\n",
            "168/168 [==============================] - 7s 42ms/step - loss: 0.2663 - accuracy: 0.9471\n",
            "Epoch 144/200\n",
            "168/168 [==============================] - 7s 42ms/step - loss: 0.2629 - accuracy: 0.9479\n",
            "Epoch 145/200\n",
            "168/168 [==============================] - 7s 42ms/step - loss: 0.2598 - accuracy: 0.9486\n",
            "Epoch 146/200\n",
            "168/168 [==============================] - 7s 42ms/step - loss: 0.2565 - accuracy: 0.9492\n",
            "Epoch 147/200\n",
            "168/168 [==============================] - 7s 41ms/step - loss: 0.2535 - accuracy: 0.9500\n",
            "Epoch 148/200\n",
            "168/168 [==============================] - 7s 42ms/step - loss: 0.2502 - accuracy: 0.9508\n",
            "Epoch 149/200\n",
            "168/168 [==============================] - 7s 41ms/step - loss: 0.2468 - accuracy: 0.9514\n",
            "Epoch 150/200\n",
            "168/168 [==============================] - 7s 42ms/step - loss: 0.2441 - accuracy: 0.9520\n",
            "Epoch 151/200\n",
            "168/168 [==============================] - 7s 42ms/step - loss: 0.2408 - accuracy: 0.9528\n",
            "Epoch 152/200\n",
            "168/168 [==============================] - 7s 41ms/step - loss: 0.2377 - accuracy: 0.9532\n",
            "Epoch 153/200\n",
            "168/168 [==============================] - 7s 42ms/step - loss: 0.2348 - accuracy: 0.9542\n",
            "Epoch 154/200\n",
            "168/168 [==============================] - 7s 42ms/step - loss: 0.2318 - accuracy: 0.9549\n",
            "Epoch 155/200\n",
            "168/168 [==============================] - 7s 42ms/step - loss: 0.2285 - accuracy: 0.9558\n",
            "Epoch 156/200\n",
            "168/168 [==============================] - 7s 41ms/step - loss: 0.2254 - accuracy: 0.9565\n",
            "Epoch 157/200\n",
            "168/168 [==============================] - 7s 42ms/step - loss: 0.2226 - accuracy: 0.9573\n",
            "Epoch 158/200\n",
            "168/168 [==============================] - 7s 42ms/step - loss: 0.2198 - accuracy: 0.9579\n",
            "Epoch 159/200\n",
            "168/168 [==============================] - 7s 41ms/step - loss: 0.2169 - accuracy: 0.9585\n",
            "Epoch 160/200\n",
            "168/168 [==============================] - 7s 42ms/step - loss: 0.2143 - accuracy: 0.9593\n",
            "Epoch 161/200\n",
            "168/168 [==============================] - 7s 41ms/step - loss: 0.2115 - accuracy: 0.9600\n",
            "Epoch 162/200\n",
            "168/168 [==============================] - 7s 42ms/step - loss: 0.2085 - accuracy: 0.9607\n",
            "Epoch 163/200\n",
            "168/168 [==============================] - 7s 42ms/step - loss: 0.2056 - accuracy: 0.9614\n",
            "Epoch 164/200\n",
            "168/168 [==============================] - 7s 42ms/step - loss: 0.2029 - accuracy: 0.9621\n",
            "Epoch 165/200\n",
            "168/168 [==============================] - 7s 42ms/step - loss: 0.2006 - accuracy: 0.9626\n",
            "Epoch 166/200\n",
            "168/168 [==============================] - 7s 41ms/step - loss: 0.1977 - accuracy: 0.9634\n",
            "Epoch 167/200\n",
            "168/168 [==============================] - 7s 41ms/step - loss: 0.1951 - accuracy: 0.9642\n",
            "Epoch 168/200\n",
            "168/168 [==============================] - 7s 41ms/step - loss: 0.1920 - accuracy: 0.9647\n",
            "Epoch 169/200\n",
            "168/168 [==============================] - 7s 43ms/step - loss: 0.1897 - accuracy: 0.9653\n",
            "Epoch 170/200\n",
            "168/168 [==============================] - 7s 42ms/step - loss: 0.1873 - accuracy: 0.9658\n",
            "Epoch 171/200\n",
            "168/168 [==============================] - 7s 41ms/step - loss: 0.1844 - accuracy: 0.9667\n",
            "Epoch 172/200\n",
            "168/168 [==============================] - 7s 42ms/step - loss: 0.1820 - accuracy: 0.9673\n",
            "Epoch 173/200\n",
            "168/168 [==============================] - 7s 42ms/step - loss: 0.1797 - accuracy: 0.9679\n",
            "Epoch 174/200\n",
            "168/168 [==============================] - 7s 42ms/step - loss: 0.1771 - accuracy: 0.9682\n",
            "Epoch 175/200\n",
            "168/168 [==============================] - 7s 41ms/step - loss: 0.1747 - accuracy: 0.9691\n",
            "Epoch 176/200\n",
            "168/168 [==============================] - 7s 42ms/step - loss: 0.1723 - accuracy: 0.9699\n",
            "Epoch 177/200\n",
            "168/168 [==============================] - 7s 42ms/step - loss: 0.1697 - accuracy: 0.9704\n",
            "Epoch 178/200\n",
            "168/168 [==============================] - 7s 41ms/step - loss: 0.1674 - accuracy: 0.9710\n",
            "Epoch 179/200\n",
            "168/168 [==============================] - 7s 42ms/step - loss: 0.1653 - accuracy: 0.9715\n",
            "Epoch 180/200\n",
            "168/168 [==============================] - 7s 41ms/step - loss: 0.1631 - accuracy: 0.9719\n",
            "Epoch 181/200\n",
            "168/168 [==============================] - 7s 42ms/step - loss: 0.1605 - accuracy: 0.9727\n",
            "Epoch 182/200\n",
            "168/168 [==============================] - 7s 41ms/step - loss: 0.1583 - accuracy: 0.9730\n",
            "Epoch 183/200\n",
            "168/168 [==============================] - 7s 41ms/step - loss: 0.1564 - accuracy: 0.9736\n",
            "Epoch 184/200\n",
            "168/168 [==============================] - 7s 42ms/step - loss: 0.1539 - accuracy: 0.9743\n",
            "Epoch 185/200\n",
            "168/168 [==============================] - 7s 41ms/step - loss: 0.1515 - accuracy: 0.9749\n",
            "Epoch 186/200\n",
            "168/168 [==============================] - 7s 42ms/step - loss: 0.1494 - accuracy: 0.9752\n",
            "Epoch 187/200\n",
            "168/168 [==============================] - 7s 41ms/step - loss: 0.1473 - accuracy: 0.9760\n",
            "Epoch 188/200\n",
            "168/168 [==============================] - 7s 42ms/step - loss: 0.1451 - accuracy: 0.9762\n",
            "Epoch 189/200\n",
            "168/168 [==============================] - 7s 41ms/step - loss: 0.1434 - accuracy: 0.9767\n",
            "Epoch 190/200\n",
            "168/168 [==============================] - 7s 42ms/step - loss: 0.1411 - accuracy: 0.9774\n",
            "Epoch 191/200\n",
            "168/168 [==============================] - 7s 41ms/step - loss: 0.1391 - accuracy: 0.9779\n",
            "Epoch 192/200\n",
            "168/168 [==============================] - 7s 41ms/step - loss: 0.1375 - accuracy: 0.9781\n",
            "Epoch 193/200\n",
            "168/168 [==============================] - 7s 42ms/step - loss: 0.1356 - accuracy: 0.9786\n",
            "Epoch 194/200\n",
            "168/168 [==============================] - 7s 41ms/step - loss: 0.1338 - accuracy: 0.9790\n",
            "Epoch 195/200\n",
            "168/168 [==============================] - 7s 42ms/step - loss: 0.1316 - accuracy: 0.9796\n",
            "Epoch 196/200\n",
            "168/168 [==============================] - 7s 41ms/step - loss: 0.1297 - accuracy: 0.9800\n",
            "Epoch 197/200\n",
            "168/168 [==============================] - 7s 41ms/step - loss: 0.1280 - accuracy: 0.9802\n",
            "Epoch 198/200\n",
            "168/168 [==============================] - 7s 42ms/step - loss: 0.1260 - accuracy: 0.9810\n",
            "Epoch 199/200\n",
            "168/168 [==============================] - 7s 41ms/step - loss: 0.1243 - accuracy: 0.9812\n",
            "Epoch 200/200\n",
            "168/168 [==============================] - 7s 42ms/step - loss: 0.1224 - accuracy: 0.9817\n"
          ]
        }
      ]
    },
    {
      "cell_type": "code",
      "source": [
        "loss = history.history['loss']\n",
        "accuracy = history.history['accuracy']\n"
      ],
      "metadata": {
        "id": "FRKh1TfA-5f6"
      },
      "execution_count": null,
      "outputs": []
    },
    {
      "cell_type": "code",
      "source": [
        "from  matplotlib import pyplot as plt\n",
        "plt.plot(loss, label='Training loss')\n",
        "plt.title('Training loss')\n",
        "plt.xlabel('Epochs')\n",
        "plt.ylabel('Loss')\n",
        "plt.legend()\n",
        "plt.show()"
      ],
      "metadata": {
        "colab": {
          "base_uri": "https://localhost:8080/",
          "height": 472
        },
        "id": "uSfY-t6__Bd-",
        "outputId": "9757be3e-34bb-4466-eed2-328f38b70b28"
      },
      "execution_count": null,
      "outputs": [
        {
          "output_type": "display_data",
          "data": {
            "text/plain": [
              "<Figure size 640x480 with 1 Axes>"
            ],
            "image/png": "[encoded data removed]"
          },
          "metadata": {}
        }
      ]
    },
    {
      "cell_type": "code",
      "source": [
        "plt.plot(accuracy, label='Training acc')\n",
        "plt.title('Training accuracy')\n",
        "plt.xlabel('Epochs')\n",
        "plt.ylabel('Accuracy')\n",
        "plt.legend(loc='lower right')\n",
        "plt.show()\n"
      ],
      "metadata": {
        "colab": {
          "base_uri": "https://localhost:8080/",
          "height": 472
        },
        "id": "Jb0sbn3R_I45",
        "outputId": "9abecdb7-7ea7-4158-dac7-71c0bcddeb30"
      },
      "execution_count": null,
      "outputs": [
        {
          "output_type": "display_data",
          "data": {
            "text/plain": [
              "<Figure size 640x480 with 1 Axes>"
            ],
            "image/png": "[encoded data removed]"
          },
          "metadata": {}
        }
      ]
    },
    {
      "cell_type": "code",
      "source": [
        "model_eng2ar.save(\"eng2ara\")"
      ],
      "metadata": {
        "colab": {
          "base_uri": "https://localhost:8080/"
        },
        "id": "prgN4YQq_J2G",
        "outputId": "e33440e1-3dbc-4c16-91e1-190557aa0cbe"
      },
      "execution_count": null,
      "outputs": [
        {
          "output_type": "stream",
          "name": "stderr",
          "text": [
            "WARNING:absl:Found untraced functions such as lstm_cell_layer_call_fn, lstm_cell_layer_call_and_return_conditional_losses, lstm_cell_1_layer_call_fn, lstm_cell_1_layer_call_and_return_conditional_losses while saving (showing 4 of 4). These functions will not be directly callable after loading.\n"
          ]
        }
      ]
    },
    {
      "cell_type": "code",
      "source": [],
      "metadata": {
        "id": "yx-xlxUjLU9d"
      },
      "execution_count": null,
      "outputs": []
    }
  ]
}